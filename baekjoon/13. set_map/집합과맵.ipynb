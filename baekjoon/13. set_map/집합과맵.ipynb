{
 "cells": [
  {
   "cell_type": "code",
   "execution_count": 3,
   "metadata": {},
   "outputs": [],
   "source": [
    "# 10815 : 숫자카드\n",
    "# import sys\n",
    "# input = sys.stdin.readline\n",
    "# 딕셔너리 사용\n",
    "\n",
    "N = int(input())\n",
    "have = list(map(int, input().split()))\n",
    "M = int(input())\n",
    "card = list(map(int, input().split()))\n",
    "\n",
    "dic = {}\n",
    "for i in range(N):\n",
    "    dic[have[i]] = 0\n",
    "\n",
    "for i in range(M):\n",
    "    if card[i] not in dic:\n",
    "        print(0, end=' ')\n",
    "    else:\n",
    "        print(1, end=' ')\n"
   ]
  },
  {
   "cell_type": "code",
   "execution_count": null,
   "metadata": {},
   "outputs": [],
   "source": [
    "# 이진탐색\n",
    "\n",
    "n = int(input())\n",
    "a = list(map(int, input().split()))\n",
    "a.sort()\n",
    "\n",
    "def binary_search(num):\n",
    "    l = 0\n",
    "    r = n-1\n",
    "    while l <= r :\n",
    "        mid = (l+r)//2\n",
    "        if a[mid] == num :\n",
    "            return 1\n",
    "        elif a[mid] > num :\n",
    "            r = mid - 1\n",
    "            # 반 줄여주기 1\n",
    "        else:\n",
    "            l = mid + 1\n",
    "            # 반 줄여주기 2\n",
    "    return 0\n",
    "\n",
    "input()\n",
    "for num in list(map(int, input().split())):\n",
    "    print(binary_search(num), end = ' ')"
   ]
  },
  {
   "cell_type": "code",
   "execution_count": null,
   "metadata": {},
   "outputs": [],
   "source": [
    "# set 사용\n",
    "\n",
    "input()\n",
    "n = set(map(int, input().split()))\n",
    "print(n)\n",
    "input()\n",
    "m = list(map(int, input().split()))\n",
    "for i in m:\n",
    "    if i in n:\n",
    "        print(1, end=' ')\n",
    "    else:\n",
    "        print(0, end=' ')"
   ]
  },
  {
   "cell_type": "code",
   "execution_count": 3,
   "metadata": {},
   "outputs": [
    {
     "data": {
      "text/plain": [
       "False"
      ]
     },
     "execution_count": 3,
     "metadata": {},
     "output_type": "execute_result"
    }
   ],
   "source": [
    "def isleap(year):\n",
    "    if (year%4 == 0 and year%100 != 0) or year%400==0:\n",
    "        return True\n",
    "    return False\n",
    "\n",
    "isleap(1900)"
   ]
  },
  {
   "cell_type": "code",
   "execution_count": null,
   "metadata": {},
   "outputs": [],
   "source": [
    "# 14425 : 문자열 집합\n",
    "\n",
    "N, M = map(int, input().split())\n",
    "words = []\n",
    "S = []\n",
    "dic = {}\n",
    "count = 0\n",
    "\n",
    "for i in range(N):\n",
    "    words.append(input())\n",
    "\n",
    "for i in range(M):\n",
    "    S.append(input())\n",
    "\n",
    "for i in words:\n",
    "    dic[i] = 0\n",
    "\n",
    "for i in S:\n",
    "    if i in dic:\n",
    "        count += 1\n",
    "\n",
    "print(count)"
   ]
  },
  {
   "cell_type": "code",
   "execution_count": 9,
   "metadata": {},
   "outputs": [
    {
     "data": {
      "text/plain": [
       "True"
      ]
     },
     "execution_count": 9,
     "metadata": {},
     "output_type": "execute_result"
    }
   ],
   "source": [
    "a = 'text'\n",
    "a.isalpha()"
   ]
  },
  {
   "cell_type": "code",
   "execution_count": 10,
   "metadata": {},
   "outputs": [
    {
     "ename": "TypeError",
     "evalue": "'builtin_function_or_method' object is not iterable",
     "output_type": "error",
     "traceback": [
      "\u001b[1;31m---------------------------------------------------------------------------\u001b[0m",
      "\u001b[1;31mTypeError\u001b[0m                                 Traceback (most recent call last)",
      "Cell \u001b[1;32mIn[10], line 21\u001b[0m\n\u001b[0;32m     18\u001b[0m     \u001b[39mprint\u001b[39m(dic[i])\n\u001b[0;32m     20\u001b[0m \u001b[39melse\u001b[39;00m:\n\u001b[1;32m---> 21\u001b[0m     a \u001b[39m=\u001b[39m [k \u001b[39mfor\u001b[39;00m k, v \u001b[39min\u001b[39;00m dic\u001b[39m.\u001b[39mitems \u001b[39mif\u001b[39;00m v \u001b[39m==\u001b[39m i]\n\u001b[0;32m     22\u001b[0m     \u001b[39mprint\u001b[39m(\u001b[39m*\u001b[39ma)\n",
      "\u001b[1;31mTypeError\u001b[0m: 'builtin_function_or_method' object is not iterable"
     ]
    }
   ],
   "source": [
    "N, M = map(int, input().split())\n",
    "words = []\n",
    "S = []\n",
    "dic = {}\n",
    "count = 0\n",
    "\n",
    "for i in range(N):\n",
    "    words.append(input())\n",
    "\n",
    "for i in range(M):\n",
    "    S.append(input())\n",
    "\n",
    "for i in range(N):\n",
    "    dic[words[i]] = i+1\n",
    "\n",
    "for i in S:\n",
    "    if i.isalpha():\n",
    "        print(dic[i])\n",
    "\n",
    "    else:\n",
    "        a = [k for k, v in dic.items if v == int(i)]\n",
    "        print(*a)"
   ]
  },
  {
   "cell_type": "code",
   "execution_count": 16,
   "metadata": {},
   "outputs": [
    {
     "data": {
      "text/plain": [
       "False"
      ]
     },
     "execution_count": 16,
     "metadata": {},
     "output_type": "execute_result"
    }
   ],
   "source": [
    "a = '1'\n",
    "a.isalpha()"
   ]
  },
  {
   "cell_type": "code",
   "execution_count": 17,
   "metadata": {},
   "outputs": [
    {
     "data": {
      "text/plain": [
       "1"
      ]
     },
     "execution_count": 17,
     "metadata": {},
     "output_type": "execute_result"
    }
   ],
   "source": [
    "int(a)"
   ]
  },
  {
   "cell_type": "code",
   "execution_count": 12,
   "metadata": {},
   "outputs": [
    {
     "ename": "TypeError",
     "evalue": "'builtin_function_or_method' object is not iterable",
     "output_type": "error",
     "traceback": [
      "\u001b[1;31m---------------------------------------------------------------------------\u001b[0m",
      "\u001b[1;31mTypeError\u001b[0m                                 Traceback (most recent call last)",
      "Cell \u001b[1;32mIn[12], line 6\u001b[0m\n\u001b[0;32m      3\u001b[0m     \u001b[39mprint\u001b[39m(dic[i])\n\u001b[0;32m      5\u001b[0m \u001b[39melse\u001b[39;00m:\n\u001b[1;32m----> 6\u001b[0m     a \u001b[39m=\u001b[39m [k \u001b[39mfor\u001b[39;00m k, v \u001b[39min\u001b[39;00m dic\u001b[39m.\u001b[39mitems \u001b[39mif\u001b[39;00m v \u001b[39m==\u001b[39m i]\n\u001b[0;32m      7\u001b[0m     \u001b[39mprint\u001b[39m(\u001b[39m*\u001b[39ma)\n",
      "\u001b[1;31mTypeError\u001b[0m: 'builtin_function_or_method' object is not iterable"
     ]
    }
   ],
   "source": [
    "for i in S:\n",
    "    if i.isalpha():\n",
    "        print(dic[i])\n",
    "\n",
    "    else:\n",
    "        a = [k for k, v in dic.items if v == i]\n",
    "        print(*a)"
   ]
  },
  {
   "cell_type": "code",
   "execution_count": 19,
   "metadata": {},
   "outputs": [
    {
     "data": {
      "text/plain": [
       "['Ivysaur']"
      ]
     },
     "execution_count": 19,
     "metadata": {},
     "output_type": "execute_result"
    }
   ],
   "source": [
    "[k for k, v in dic.items() if v == 2]"
   ]
  },
  {
   "cell_type": "code",
   "execution_count": 53,
   "metadata": {},
   "outputs": [],
   "source": [
    "dic = {\"a\":[1, 2, 3]}"
   ]
  },
  {
   "cell_type": "code",
   "execution_count": 54,
   "metadata": {},
   "outputs": [],
   "source": [
    "dic['a'].append(4)"
   ]
  },
  {
   "cell_type": "code",
   "execution_count": 55,
   "metadata": {},
   "outputs": [
    {
     "data": {
      "text/plain": [
       "[1, 2, 3, 4]"
      ]
     },
     "execution_count": 55,
     "metadata": {},
     "output_type": "execute_result"
    }
   ],
   "source": [
    "dic['a']"
   ]
  },
  {
   "cell_type": "code",
   "execution_count": 63,
   "metadata": {},
   "outputs": [
    {
     "data": {
      "text/plain": [
       "'aet'"
      ]
     },
     "execution_count": 63,
     "metadata": {},
     "output_type": "execute_result"
    }
   ],
   "source": [
    "i = 'tea'\n",
    "i = sorted(i)\n",
    "i = ''.join(i)\n",
    "i"
   ]
  },
  {
   "cell_type": "code",
   "execution_count": 67,
   "metadata": {},
   "outputs": [],
   "source": [
    "dic['ate'] = [i]"
   ]
  },
  {
   "cell_type": "code",
   "execution_count": 69,
   "metadata": {},
   "outputs": [],
   "source": [
    "dic['ate'].append(i)"
   ]
  },
  {
   "cell_type": "code",
   "execution_count": 70,
   "metadata": {},
   "outputs": [
    {
     "data": {
      "text/plain": [
       "{'a': [1, 2, 3, 4, None], 'ate': ['aet', 'aet']}"
      ]
     },
     "execution_count": 70,
     "metadata": {},
     "output_type": "execute_result"
    }
   ],
   "source": [
    "dic"
   ]
  },
  {
   "cell_type": "code",
   "execution_count": 72,
   "metadata": {},
   "outputs": [
    {
     "ename": "AttributeError",
     "evalue": "'str' object has no attribute 'sort'",
     "output_type": "error",
     "traceback": [
      "\u001b[1;31m---------------------------------------------------------------------------\u001b[0m",
      "\u001b[1;31mAttributeError\u001b[0m                            Traceback (most recent call last)",
      "Cell \u001b[1;32mIn[72], line 1\u001b[0m\n\u001b[1;32m----> 1\u001b[0m \u001b[39m'\u001b[39;49m\u001b[39mtea\u001b[39;49m\u001b[39m'\u001b[39;49m\u001b[39m.\u001b[39;49msort()\n",
      "\u001b[1;31mAttributeError\u001b[0m: 'str' object has no attribute 'sort'"
     ]
    }
   ],
   "source": [
    "'tea'.sort()"
   ]
  },
  {
   "cell_type": "code",
   "execution_count": 1,
   "metadata": {},
   "outputs": [],
   "source": [
    "N, M = map(int, input().split())\n",
    "\n",
    "hear, see = [], []\n",
    "dic = {}\n",
    "\n",
    "for i in range(N):\n",
    "    hear.append(input())\n",
    "\n",
    "for i in range(M):\n",
    "    see.append(input())\n",
    "\n",
    "for i in hear:\n",
    "    dic[i] = dic.get(i, 0) + 1"
   ]
  },
  {
   "cell_type": "code",
   "execution_count": 3,
   "metadata": {},
   "outputs": [],
   "source": [
    "dic = {}\n",
    "for i in hear:\n",
    "    dic[i] = dic.get(i, 0) + 1\n",
    "\n",
    "for i in see:\n",
    "    dic[i] = dic.get(i, 0) + 1\n",
    "    "
   ]
  },
  {
   "cell_type": "code",
   "execution_count": 6,
   "metadata": {},
   "outputs": [
    {
     "name": "stdout",
     "output_type": "stream",
     "text": [
      "2\n",
      "ohhenrie\n",
      "baesangwook\n"
     ]
    }
   ],
   "source": [
    "hearsee = []\n",
    "\n",
    "for i in dic:\n",
    "    if dic[i] == 2:\n",
    "        hearsee.append(i)\n",
    "\n",
    "print(len(hearsee))\n",
    "for i in hearsee:  \n",
    "    print(i)\n",
    "    "
   ]
  },
  {
   "cell_type": "code",
   "execution_count": 7,
   "metadata": {},
   "outputs": [
    {
     "data": {
      "text/plain": [
       "{'ohhenrie': 2, 'charlie': 1, 'baesangwook': 2, 'obama': 1, 'clinton': 1}"
      ]
     },
     "execution_count": 7,
     "metadata": {},
     "output_type": "execute_result"
    }
   ],
   "source": [
    "dic"
   ]
  },
  {
   "cell_type": "code",
   "execution_count": 8,
   "metadata": {},
   "outputs": [
    {
     "name": "stdout",
     "output_type": "stream",
     "text": [
      "31\n"
     ]
    }
   ],
   "source": [
    "a = input()\n",
    "\n",
    "from itertools import combinations\n",
    "\n",
    "count = 0\n",
    "\n",
    "for i in range(1, len(a)+1):\n",
    "    a1 = list(combinations(a, i))\n",
    "    count += len(a1)\n",
    "\n",
    "print(count)"
   ]
  },
  {
   "cell_type": "code",
   "execution_count": 9,
   "metadata": {},
   "outputs": [
    {
     "data": {
      "text/plain": [
       "[('a', 'b'),\n",
       " ('a', 'a'),\n",
       " ('a', 'b'),\n",
       " ('a', 'c'),\n",
       " ('b', 'a'),\n",
       " ('b', 'b'),\n",
       " ('b', 'c'),\n",
       " ('a', 'b'),\n",
       " ('a', 'c'),\n",
       " ('b', 'c')]"
      ]
     },
     "execution_count": 9,
     "metadata": {},
     "output_type": "execute_result"
    }
   ],
   "source": [
    "list(combinations(a, 2))"
   ]
  },
  {
   "cell_type": "code",
   "execution_count": 17,
   "metadata": {},
   "outputs": [
    {
     "name": "stdout",
     "output_type": "stream",
     "text": [
      "12\n"
     ]
    }
   ],
   "source": [
    "a = input()\n",
    "count = 0\n",
    "dic = {}\n",
    "\n",
    "for i in range(1, len(a)+1):\n",
    "    for j in range(1, 7-i):\n",
    "        dic[a[j-1:j+i-1]] = 0\n",
    "        \n",
    "for i in dic:\n",
    "    count += 1\n",
    "    \n",
    "print(count)"
   ]
  },
  {
   "cell_type": "code",
   "execution_count": 15,
   "metadata": {},
   "outputs": [
    {
     "data": {
      "text/plain": [
       "'ababc'"
      ]
     },
     "execution_count": 15,
     "metadata": {},
     "output_type": "execute_result"
    }
   ],
   "source": []
  },
  {
   "cell_type": "code",
   "execution_count": null,
   "metadata": {},
   "outputs": [],
   "source": []
  }
 ],
 "metadata": {
  "kernelspec": {
   "display_name": "Python 3",
   "language": "python",
   "name": "python3"
  },
  "language_info": {
   "codemirror_mode": {
    "name": "ipython",
    "version": 3
   },
   "file_extension": ".py",
   "mimetype": "text/x-python",
   "name": "python",
   "nbconvert_exporter": "python",
   "pygments_lexer": "ipython3",
   "version": "3.9.13 (tags/v3.9.13:6de2ca5, May 17 2022, 16:36:42) [MSC v.1929 64 bit (AMD64)]"
  },
  "orig_nbformat": 4,
  "vscode": {
   "interpreter": {
    "hash": "c4b9ebf4ca459396e2ad1150752490c26670c1a037c08cad955a4425787bec2e"
   }
  }
 },
 "nbformat": 4,
 "nbformat_minor": 2
}
