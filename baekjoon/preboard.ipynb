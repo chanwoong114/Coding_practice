{
 "cells": [
  {
   "cell_type": "code",
   "execution_count": 59,
   "metadata": {},
   "outputs": [
    {
     "name": "stdout",
     "output_type": "stream",
     "text": [
      "18\n"
     ]
    }
   ],
   "source": [
    "# 1463 : 1로 만들기\n",
    "N = int(input())\n",
    "D = [0]*(N+1)\n",
    "\n",
    "for i in range(2, N+1):\n",
    "    if i%3==0:\n",
    "        if i%2==0: #3, 2 둘 다 나뉘는 경우\n",
    "            D[i] = min(D[i//3], D[i//2], D[i-1])+1\n",
    "        else: # 3으로만 나뉘는 경우\n",
    "            D[i] = min(D[i//3], D[i-1])+1\n",
    "    elif i%2==0: # 2로만 나뉘는 경우\n",
    "        D[i] = min(D[i//2], D[i-1])+1\n",
    "    else: # 아무것도 나뉘지 않는 경우\n",
    "        D[i] = D[i-1]+1\n",
    "\n",
    "print(D[N])"
   ]
  },
  {
   "cell_type": "code",
   "execution_count": 53,
   "metadata": {},
   "outputs": [
    {
     "name": "stdout",
     "output_type": "stream",
     "text": [
      "[0, 0, 1, 1, 2, 3, 2, 3, 3, 2, 3]\n"
     ]
    }
   ],
   "source": [
    "print(D)"
   ]
  },
  {
   "cell_type": "code",
   "execution_count": 64,
   "metadata": {},
   "outputs": [
    {
     "name": "stdout",
     "output_type": "stream",
     "text": [
      "0\n",
      "1 1\n"
     ]
    }
   ],
   "source": [
    "N = int(input())\n",
    "D = [0]*(N+1)\n",
    "m = N\n",
    "\n",
    "for i in range(2, N+1):\n",
    "    if i%3==0:\n",
    "        if i%2==0: #3, 2 둘 다 나뉘는 경우\n",
    "            D[i] = min(D[i//3], D[i//2], D[i-1])+1\n",
    "        else: # 3으로만 나뉘는 경우\n",
    "            D[i] = min(D[i//3], D[i-1])+1\n",
    "    elif i%2==0: # 2로만 나뉘는 경우\n",
    "        D[i] = min(D[i//2], D[i-1])+1\n",
    "    else: # 아무것도 나뉘지 않는 경우\n",
    "        D[i] = D[i-1]+1\n",
    "\n",
    "history=[]\n",
    "if N !=1:\n",
    "    history.append(N)\n",
    "\n",
    "while N>3:\n",
    "    if N%3==0:\n",
    "        if N%2==0:\n",
    "            if D[N//3] <= D[N//2]:\n",
    "                if D[N//3] <= D[N-1]:\n",
    "                    history.append(N//3)\n",
    "                    N = N//3\n",
    "                else:\n",
    "                    history.append(N-1)\n",
    "                    N = N-1\n",
    "            else:\n",
    "                if D[N//2] <= D[N-1]:\n",
    "                    history.append(N//2)\n",
    "                    N = N//2\n",
    "                else:\n",
    "                    history.append(N-1)\n",
    "                    N = N-1\n",
    "        else:\n",
    "            if D[N//3] <= D[N-1]:\n",
    "                history.append(N//3)\n",
    "                N = N//3\n",
    "            else:\n",
    "                history.append(N-1)\n",
    "                N = N-1\n",
    "\n",
    "    elif N%2==0:\n",
    "        if D[N//2] <= D[N-1]:\n",
    "            history.append(N//2)\n",
    "            N = N//2\n",
    "        else:\n",
    "            history.append(N-1)\n",
    "            N = N-1\n",
    "    else:\n",
    "        history.append(N-1)\n",
    "        N = N-1\n",
    "\n",
    "\n",
    "print(D[m])\n",
    "history.append(1)\n",
    "print(*history)"
   ]
  },
  {
   "cell_type": "code",
   "execution_count": 34,
   "metadata": {},
   "outputs": [
    {
     "data": {
      "text/plain": [
       "[10, 9, 3, 1]"
      ]
     },
     "execution_count": 34,
     "metadata": {},
     "output_type": "execute_result"
    }
   ],
   "source": [
    "history"
   ]
  },
  {
   "cell_type": "code",
   "execution_count": 56,
   "metadata": {},
   "outputs": [
    {
     "name": "stdout",
     "output_type": "stream",
     "text": [
      "11\n"
     ]
    }
   ],
   "source": [
    "d = {1: 0, 2: 1}\n",
    "def s(n: int) -> int:\n",
    "    if n in d:\n",
    "        return d[n]\n",
    "    t = 1 + min(s(n // 3) + n % 3, s(n // 2) + n % 2)\n",
    "    d[n] = t\n",
    "    return t\n",
    "print(s(int(input())))"
   ]
  },
  {
   "cell_type": "code",
   "execution_count": 66,
   "metadata": {},
   "outputs": [
    {
     "data": {
      "text/plain": [
       "55"
      ]
     },
     "execution_count": 66,
     "metadata": {},
     "output_type": "execute_result"
    }
   ],
   "source": [
    "def sum123(n):\n",
    "    a = 0\n",
    "    for i in range(n+1):\n",
    "        a += i\n",
    "    return a\n",
    "\n",
    "sum123(10)"
   ]
  },
  {
   "cell_type": "code",
   "execution_count": null,
   "metadata": {},
   "outputs": [],
   "source": []
  }
 ],
 "metadata": {
  "kernelspec": {
   "display_name": "Python 3",
   "language": "python",
   "name": "python3"
  },
  "language_info": {
   "codemirror_mode": {
    "name": "ipython",
    "version": 3
   },
   "file_extension": ".py",
   "mimetype": "text/x-python",
   "name": "python",
   "nbconvert_exporter": "python",
   "pygments_lexer": "ipython3",
   "version": "3.9.13"
  },
  "orig_nbformat": 4,
  "vscode": {
   "interpreter": {
    "hash": "c4b9ebf4ca459396e2ad1150752490c26670c1a037c08cad955a4425787bec2e"
   }
  }
 },
 "nbformat": 4,
 "nbformat_minor": 2
}
