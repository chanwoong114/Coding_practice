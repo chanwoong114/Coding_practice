{
 "cells": [
  {
   "cell_type": "code",
   "execution_count": 35,
   "metadata": {},
   "outputs": [
    {
     "name": "stdout",
     "output_type": "stream",
     "text": [
      "30\n"
     ]
    }
   ],
   "source": [
    "N, M, K = map(int, input().split())\n",
    "board = [[0]*(M+1)] + [[0] + list(input().strip()) for _ in range(N)]\n",
    "\n",
    "# 요약 : 맨 처음이 W로 시작하는 \"조건 만족 전체 사이즈 체스판\"과 B로 시작하는 \"조건 만족 전체 사이즈 체스판\"을 미리 구해두고,\n",
    "# 필요 색칠 횟수를 값으로 삼는 누적합을 미리 구해둔 뒤, 그걸 활용하여 체스판을 자르는 모든 경우의 수를 돌면서 최소 색칠 횟수를 구한다.\n",
    "\n",
    "# 임의의 K*K 크기에서 색칠 횟수를 구할 때 왼쪽 윗 부분에서 한 칸씩 전의 idx를 사용하기 때문에, 편의를 위해 idx의 시작을 1부터로 통일한다.\n",
    "# check는 모든 칸이 조건을 충족하는 체스판을 나타낸 것이다.\n",
    "check_W = [\"0\"*(M+1)] + [\"0\" + \"WB\"*(M//2) + \"W\"*(M%2), \"0\" + \"BW\"*(M//2) + \"B\"*(M%2)]*(N//2) + [\"0\" + \"WB\"*(M//2) + \"W\"*(M%2)]*(N%2)\n",
    "check_B = [\"0\"*(M+1)] + [\"0\" + \"BW\"*(M//2) + \"B\"*(M%2), \"0\" + \"WB\"*(M//2) + \"W\"*(M%2)]*(N//2) + [\"0\" + \"BW\"*(M//2) + \"B\"*(M%2)]*(N%2)\n",
    "\n",
    "# sum_sub는 (1, 1)부터 (x, y)까지의 체스판의 색칠 횟수 값을 담는 2차원 리스트이다.\n",
    "sum_sub_W = [[0]*(M+1) for _ in range(N+1)]\n",
    "sum_sub_B = [[0]*(M+1) for _ in range(N+1)]\n",
    "\n",
    "# 누적합 리스트 완성해놓기\n",
    "for i in range(1, N+1):\n",
    "    for j in range(1, M+1):\n",
    "        sum_sub_W[i][j] = int(board[i][j] != check_W[i][j]) + sum_sub_W[i-1][j] + sum_sub_W[i][j-1] - sum_sub_W[i-1][j-1]\n",
    "        sum_sub_B[i][j] = int(board[i][j] != check_B[i][j]) + sum_sub_B[i-1][j] + sum_sub_B[i][j-1] - sum_sub_B[i-1][j-1]\n",
    "\n",
    "# 체스판을 자르는 모든 경우의 수를 돌면서 누적합을 이용하여 가장 적은 색칠 횟수를 찾는다.\n",
    "result = float(\"inf\")\n",
    "for x_start in range(1, N-K+2):\n",
    "    for y_start in range(1, M-K+2):\n",
    "        x_point = x_start+K-1\n",
    "        y_point = y_start+K-1\n",
    "        \n",
    "        cnt_color_W = sum_sub_W[x_point][y_point] - sum_sub_W[x_start-1][y_point] - sum_sub_W[x_point][y_start-1] + sum_sub_W[x_start-1][y_start-1]\n",
    "        cnt_color_B = sum_sub_B[x_point][y_point] - sum_sub_B[x_start-1][y_point] - sum_sub_B[x_point][y_start-1] + sum_sub_B[x_start-1][y_start-1]\n",
    "        \n",
    "        result = min(result, cnt_color_W, cnt_color_B)\n",
    "\n",
    "print(result)"
   ]
  },
  {
   "cell_type": "code",
   "execution_count": 13,
   "metadata": {},
   "outputs": [
    {
     "data": {
      "text/plain": [
       "[[0, 0, 0, 0, 0],\n",
       " [0, 'B', 'B', 'B', 'B'],\n",
       " [0, 'B', 'B', 'B', 'B'],\n",
       " [0, 'B', 'B', 'B', 'W'],\n",
       " [0, 'B', 'B', 'W', 'B']]"
      ]
     },
     "execution_count": 13,
     "metadata": {},
     "output_type": "execute_result"
    }
   ],
   "source": [
    "board"
   ]
  },
  {
   "cell_type": "code",
   "execution_count": 6,
   "metadata": {},
   "outputs": [
    {
     "data": {
      "text/plain": [
       "([[0, 0, 0, 0, 0],\n",
       "  [0, 1, 1, 2, 2],\n",
       "  [0, 1, 2, 3, 4],\n",
       "  [0, 2, 3, 5, 7],\n",
       "  [0, 2, 4, 7, 10]],\n",
       " [[0, 0, 0, 0, 0],\n",
       "  [0, 0, 1, 1, 2],\n",
       "  [0, 1, 2, 3, 4],\n",
       "  [0, 1, 3, 4, 5],\n",
       "  [0, 2, 4, 5, 6]])"
      ]
     },
     "execution_count": 6,
     "metadata": {},
     "output_type": "execute_result"
    }
   ],
   "source": [
    "sum_sub_W, sum_sub_B"
   ]
  },
  {
   "cell_type": "code",
   "execution_count": 4,
   "metadata": {},
   "outputs": [
    {
     "data": {
      "text/plain": [
       "['00000', '0WBWB', '0BWBW', '0WBWB', '0BWBW']"
      ]
     },
     "execution_count": 4,
     "metadata": {},
     "output_type": "execute_result"
    }
   ],
   "source": [
    "check_W"
   ]
  },
  {
   "cell_type": "code",
   "execution_count": 30,
   "metadata": {},
   "outputs": [],
   "source": [
    "N, M, K = map(int, input().split())\n",
    "board = [[0]*(M+1)]+[[0]+list(input().strip()) for _ in range(N)]"
   ]
  },
  {
   "cell_type": "code",
   "execution_count": 36,
   "metadata": {},
   "outputs": [],
   "source": [
    "check_W = ['0'*(M+1)] + ['0' + 'WB'*(M//2) + 'W'*(M%2), '0' + 'BW'*(M//2) + 'B'*(M%2)]*(N//2) + ['0' + 'WB'*(M//2) + 'W'*(M%2)]*(N%2)\n",
    "check_B = ['0'*(M+1)] + ['0' + 'BW'*(M//2) + 'B'*(M%2), '0' + 'WB'*(M//2) + 'W'*(M%2)]*(N//2) + ['0' + 'BW'*(M//2) + 'B'*(M%2)]*(N%2)"
   ]
  },
  {
   "cell_type": "code",
   "execution_count": 43,
   "metadata": {},
   "outputs": [],
   "source": [
    "sum_W = [[0]*(M+1) for _ in range(N+1)]\n",
    "sum_B = [[0]*(M+1) for _ in range(N+1)]"
   ]
  },
  {
   "cell_type": "code",
   "execution_count": 42,
   "metadata": {},
   "outputs": [
    {
     "data": {
      "text/plain": [
       "[[0, 0, 0, 0, 0, 0, 0, 0, 0, 0, 0, 0, 0, 0],\n",
       " [0, 'B', 'B', 'B', 'B', 'B', 'B', 'B', 'B', 'W', 'B', 'W', 'B', 'W'],\n",
       " [0, 'B', 'B', 'B', 'B', 'B', 'B', 'B', 'B', 'B', 'W', 'B', 'W', 'B'],\n",
       " [0, 'B', 'B', 'B', 'B', 'B', 'B', 'B', 'B', 'W', 'B', 'W', 'B', 'W'],\n",
       " [0, 'B', 'B', 'B', 'B', 'B', 'B', 'B', 'B', 'B', 'W', 'B', 'W', 'B'],\n",
       " [0, 'B', 'B', 'B', 'B', 'B', 'B', 'B', 'B', 'W', 'B', 'W', 'B', 'W'],\n",
       " [0, 'B', 'B', 'B', 'B', 'B', 'B', 'B', 'B', 'B', 'W', 'B', 'W', 'B'],\n",
       " [0, 'B', 'B', 'B', 'B', 'B', 'B', 'B', 'B', 'W', 'B', 'W', 'B', 'W'],\n",
       " [0, 'B', 'B', 'B', 'B', 'B', 'B', 'B', 'B', 'B', 'W', 'B', 'W', 'B'],\n",
       " [0, 'W', 'W', 'W', 'W', 'W', 'W', 'W', 'W', 'W', 'W', 'B', 'W', 'B'],\n",
       " [0, 'W', 'W', 'W', 'W', 'W', 'W', 'W', 'W', 'W', 'W', 'B', 'W', 'B']]"
      ]
     },
     "execution_count": 42,
     "metadata": {},
     "output_type": "execute_result"
    }
   ],
   "source": [
    "board"
   ]
  },
  {
   "cell_type": "code",
   "execution_count": 19,
   "metadata": {},
   "outputs": [
    {
     "data": {
      "text/plain": [
       "[[0, 0, 0, 0, 0],\n",
       " [0, 'B', 'B', 'B', 'B'],\n",
       " [0, 'B', 'B', 'B', 'B'],\n",
       " [0, 'B', 'B', 'B', 'W'],\n",
       " [0, 'B', 'B', 'W', 'B']]"
      ]
     },
     "execution_count": 19,
     "metadata": {},
     "output_type": "execute_result"
    }
   ],
   "source": [
    "board"
   ]
  },
  {
   "cell_type": "code",
   "execution_count": 44,
   "metadata": {},
   "outputs": [],
   "source": [
    "for i in range(1, N+1):\n",
    "    for j in range(1, M+1):\n",
    "        sum_W[i][j] = int(board[i][j] != check_W[i][j]) + sum_W[i-1][j] + sum_W[i][j-1] - sum_W[i-1][j-1]\n",
    "        sum_B[i][j] = int(board[i][j] != check_B[i][j]) + sum_B[i-1][j] + sum_B[i][j-1] - sum_B[i-1][j-1]"
   ]
  },
  {
   "cell_type": "code",
   "execution_count": 46,
   "metadata": {},
   "outputs": [
    {
     "data": {
      "text/plain": [
       "([[0, 0, 0, 0, 0, 0, 0, 0, 0, 0, 0, 0, 0, 0],\n",
       "  [0, 1, 1, 2, 2, 3, 3, 4, 4, 4, 4, 4, 4, 4],\n",
       "  [0, 1, 2, 3, 4, 5, 6, 7, 8, 8, 8, 8, 8, 8],\n",
       "  [0, 2, 3, 5, 6, 8, 9, 11, 12, 12, 12, 12, 12, 12],\n",
       "  [0, 2, 4, 6, 8, 10, 12, 14, 16, 16, 16, 16, 16, 16],\n",
       "  [0, 3, 5, 8, 10, 13, 15, 18, 20, 20, 20, 20, 20, 20],\n",
       "  [0, 3, 6, 9, 12, 15, 18, 21, 24, 24, 24, 24, 24, 24],\n",
       "  [0, 4, 7, 11, 14, 18, 21, 25, 28, 28, 28, 28, 28, 28],\n",
       "  [0, 4, 8, 12, 16, 20, 24, 28, 32, 32, 32, 32, 32, 32],\n",
       "  [0, 4, 9, 13, 18, 22, 27, 31, 36, 36, 37, 38, 39, 40],\n",
       "  [0, 5, 10, 15, 20, 25, 30, 35, 40, 41, 42, 43, 44, 45]],\n",
       " [[0, 0, 0, 0, 0, 0, 0, 0, 0, 0, 0, 0, 0, 0],\n",
       "  [0, 1, 1, 2, 2, 3, 3, 4, 4, 4, 4, 4, 4, 4],\n",
       "  [0, 1, 2, 3, 4, 5, 6, 7, 8, 8, 8, 8, 8, 8],\n",
       "  [0, 2, 3, 5, 6, 8, 9, 11, 12, 12, 12, 12, 12, 12],\n",
       "  [0, 2, 4, 6, 8, 10, 12, 14, 16, 16, 16, 16, 16, 16],\n",
       "  [0, 3, 5, 8, 10, 13, 15, 18, 20, 20, 20, 20, 20, 20],\n",
       "  [0, 3, 6, 9, 12, 15, 18, 21, 24, 24, 24, 24, 24, 24],\n",
       "  [0, 4, 7, 11, 14, 18, 21, 25, 28, 28, 28, 28, 28, 28],\n",
       "  [0, 4, 8, 12, 16, 20, 24, 28, 32, 32, 32, 32, 32, 32],\n",
       "  [0, 4, 9, 13, 18, 22, 27, 31, 36, 36, 37, 38, 39, 40],\n",
       "  [0, 5, 10, 15, 20, 25, 30, 35, 40, 41, 42, 43, 44, 45]])"
      ]
     },
     "execution_count": 46,
     "metadata": {},
     "output_type": "execute_result"
    }
   ],
   "source": [
    "sum_W, sum_sub_W"
   ]
  },
  {
   "cell_type": "code",
   "execution_count": 52,
   "metadata": {},
   "outputs": [
    {
     "name": "stdout",
     "output_type": "stream",
     "text": [
      "30\n"
     ]
    }
   ],
   "source": [
    "result = float(\"inf\") # 양의 무한대\n",
    "for i in range(0, N-K+1):\n",
    "    for j in range(0, M-K+1):\n",
    "        x = i+K\n",
    "        y = j+K\n",
    "\n",
    "        color_W = sum_W[x][y] - sum_W[x][j] - sum_W[i][y] + sum_W[i][j]\n",
    "        color_B = sum_B[x][y] - sum_B[x][j] - sum_B[i][y] + sum_B[i][j]\n",
    "\n",
    "        result = min(result, color_W, color_B)\n",
    "\n",
    "print(result)"
   ]
  },
  {
   "cell_type": "code",
   "execution_count": 49,
   "metadata": {},
   "outputs": [
    {
     "data": {
      "text/plain": [
       "(30, 27, 43)"
      ]
     },
     "execution_count": 49,
     "metadata": {},
     "output_type": "execute_result"
    }
   ],
   "source": [
    "cnt_color_W, color_W, color_B"
   ]
  },
  {
   "cell_type": "code",
   "execution_count": 10,
   "metadata": {},
   "outputs": [
    {
     "data": {
      "text/plain": [
       "[[0, 0, 0, 0, 0],\n",
       " [0, 1, 1, 2, 2],\n",
       " [0, 1, 2, 3, 4],\n",
       " [0, 2, 3, 5, 7],\n",
       " [0, 2, 4, 7, 10]]"
      ]
     },
     "execution_count": 10,
     "metadata": {},
     "output_type": "execute_result"
    }
   ],
   "source": [
    "result = float(\"inf\")\n",
    "for x_start in range(1, N-K+2):\n",
    "    for y_start in range(1, M-K+2):\n",
    "        x_point = x_start+K-1\n",
    "        y_point = y_start+K-1\n",
    "        \n",
    "        cnt_color_W = sum_sub_W[x_point][y_point] - sum_sub_W[x_start-1][y_point] - sum_sub_W[x_point][y_start-1] + sum_sub_W[x_start-1][y_start-1]\n",
    "        cnt_color_B = sum_sub_B[x_point][y_point] - sum_sub_B[x_start-1][y_point] - sum_sub_B[x_point][y_start-1] + sum_sub_B[x_start-1][y_start-1]\n",
    "        \n",
    "        result = min(result, cnt_color_W, cnt_color_B)\n",
    "\n",
    "print(result)"
   ]
  },
  {
   "cell_type": "code",
   "execution_count": 23,
   "metadata": {},
   "outputs": [
    {
     "data": {
      "text/plain": [
       "True"
      ]
     },
     "execution_count": 23,
     "metadata": {},
     "output_type": "execute_result"
    }
   ],
   "source": [
    "float(\"inf\") > 2000"
   ]
  },
  {
   "cell_type": "code",
   "execution_count": 50,
   "metadata": {},
   "outputs": [
    {
     "data": {
      "text/plain": [
       "27"
      ]
     },
     "execution_count": 50,
     "metadata": {},
     "output_type": "execute_result"
    }
   ],
   "source": [
    "sum_W[x][y] - sum_W[x][j] - sum_W[i][y] + sum_W[i][j]"
   ]
  },
  {
   "cell_type": "code",
   "execution_count": 1,
   "metadata": {},
   "outputs": [
    {
     "ename": "KeyError",
     "evalue": "'j'",
     "output_type": "error",
     "traceback": [
      "\u001b[1;31m---------------------------------------------------------------------------\u001b[0m",
      "\u001b[1;31mKeyError\u001b[0m                                  Traceback (most recent call last)",
      "Cell \u001b[1;32mIn[1], line 31\u001b[0m\n\u001b[0;32m      4\u001b[0m dic \u001b[39m=\u001b[39m {\u001b[39m'\u001b[39m\u001b[39ma\u001b[39m\u001b[39m'\u001b[39m:[\u001b[39m0\u001b[39m]\u001b[39m*\u001b[39m\u001b[39mlen\u001b[39m(st),\n\u001b[0;32m      5\u001b[0m        \u001b[39m'\u001b[39m\u001b[39mb\u001b[39m\u001b[39m'\u001b[39m:[\u001b[39m0\u001b[39m]\u001b[39m*\u001b[39m\u001b[39mlen\u001b[39m(st),\n\u001b[0;32m      6\u001b[0m        \u001b[39m'\u001b[39m\u001b[39mc\u001b[39m\u001b[39m'\u001b[39m:[\u001b[39m0\u001b[39m]\u001b[39m*\u001b[39m\u001b[39mlen\u001b[39m(st),\n\u001b[1;32m   (...)\u001b[0m\n\u001b[0;32m     27\u001b[0m        \u001b[39m'\u001b[39m\u001b[39my\u001b[39m\u001b[39m'\u001b[39m:[\u001b[39m0\u001b[39m]\u001b[39m*\u001b[39m\u001b[39mlen\u001b[39m(st),\n\u001b[0;32m     28\u001b[0m        \u001b[39m'\u001b[39m\u001b[39mz\u001b[39m\u001b[39m'\u001b[39m:[\u001b[39m0\u001b[39m]\u001b[39m*\u001b[39m\u001b[39mlen\u001b[39m(st),}\n\u001b[0;32m     30\u001b[0m \u001b[39mfor\u001b[39;00m i \u001b[39min\u001b[39;00m \u001b[39mrange\u001b[39m(\u001b[39mlen\u001b[39m(st)):\n\u001b[1;32m---> 31\u001b[0m     dic[st[i]][i] \u001b[39m=\u001b[39m \u001b[39m1\u001b[39m\n\u001b[0;32m     33\u001b[0m \u001b[39mfor\u001b[39;00m i \u001b[39min\u001b[39;00m \u001b[39mrange\u001b[39m(test):\n\u001b[0;32m     34\u001b[0m     find, start, end \u001b[39m=\u001b[39m \u001b[39mmap\u001b[39m(\u001b[39minput\u001b[39m()\u001b[39m.\u001b[39msplit())\n",
      "\u001b[1;31mKeyError\u001b[0m: 'j'"
     ]
    }
   ],
   "source": [
    "st = input()\n",
    "test = int(input())\n",
    "\n",
    "dic = {'a':[0]*len(st),\n",
    "       'b':[0]*len(st),\n",
    "       'c':[0]*len(st),\n",
    "       'd':[0]*len(st),\n",
    "       'e':[0]*len(st),\n",
    "       'f':[0]*len(st),\n",
    "       'g':[0]*len(st),\n",
    "       'h':[0]*len(st),\n",
    "       'i':[0]*len(st),\n",
    "       'g':[0]*len(st),\n",
    "       'k':[0]*len(st),\n",
    "       'l':[0]*len(st),\n",
    "       'm':[0]*len(st),\n",
    "       'n':[0]*len(st),\n",
    "       'o':[0]*len(st),\n",
    "       'p':[0]*len(st),\n",
    "       'q':[0]*len(st),\n",
    "       'r':[0]*len(st),\n",
    "       's':[0]*len(st),\n",
    "       't':[0]*len(st),\n",
    "       'u':[0]*len(st),\n",
    "       'w':[0]*len(st),\n",
    "       'x':[0]*len(st),\n",
    "       'y':[0]*len(st),\n",
    "       'z':[0]*len(st),}\n",
    "\n",
    "for ii in range(len(st)):\n",
    "    dic[st[ii]][ii] = 1\n",
    "\n",
    "for _ in range(test):\n",
    "    find, start, end = map(input().split())\n",
    "    sum(dic[find][start:end+1])"
   ]
  },
  {
   "cell_type": "code",
   "execution_count": 1,
   "metadata": {},
   "outputs": [
    {
     "ename": "ValueError",
     "evalue": "not enough values to unpack (expected 3, got 1)",
     "output_type": "error",
     "traceback": [
      "\u001b[1;31m---------------------------------------------------------------------------\u001b[0m",
      "\u001b[1;31mValueError\u001b[0m                                Traceback (most recent call last)",
      "Cell \u001b[1;32mIn[1], line 1\u001b[0m\n\u001b[1;32m----> 1\u001b[0m find, start, end \u001b[39m=\u001b[39m \u001b[39mmap\u001b[39m(\u001b[39mstr\u001b[39m, \u001b[39minput\u001b[39m()\u001b[39m.\u001b[39msplit())\n",
      "\u001b[1;31mValueError\u001b[0m: not enough values to unpack (expected 3, got 1)"
     ]
    }
   ],
   "source": [
    "find, start, end = map(str, input().split())"
   ]
  },
  {
   "cell_type": "code",
   "execution_count": 2,
   "metadata": {},
   "outputs": [
    {
     "name": "stdout",
     "output_type": "stream",
     "text": [
      "0\n",
      "1\n",
      "2\n",
      "1\n"
     ]
    }
   ],
   "source": [
    "s = input().rstrip()\n",
    "arr = [[0]*26]\n",
    "arr[0][ord(s[0])-97] = 1\n",
    "for i in range(1,len(s)):\n",
    "    arr.append(arr[-1][:])\n",
    "    arr[i][ord(s[i])-97] += 1\n",
    "\n",
    "for _ in range(int(input())):\n",
    "    c,start,end = list(input().split())\n",
    "    start,end = map(int,[start,end])\n",
    "    if start == 0:\n",
    "        print(arr[end][ord(c)-97])\n",
    "    else:\n",
    "        print(arr[end][ord(c)-97]-arr[start-1][ord(c)-97])"
   ]
  }
 ],
 "metadata": {
  "kernelspec": {
   "display_name": "Python 3",
   "language": "python",
   "name": "python3"
  },
  "language_info": {
   "codemirror_mode": {
    "name": "ipython",
    "version": 3
   },
   "file_extension": ".py",
   "mimetype": "text/x-python",
   "name": "python",
   "nbconvert_exporter": "python",
   "pygments_lexer": "ipython3",
   "version": "3.10.9 (tags/v3.10.9:1dd9be6, Dec  6 2022, 20:01:21) [MSC v.1934 64 bit (AMD64)]"
  },
  "orig_nbformat": 4,
  "vscode": {
   "interpreter": {
    "hash": "5dc59e9617888726cc9d3bf24f35a91c9564c765de72e7d10eeba1b92ad073c3"
   }
  }
 },
 "nbformat": 4,
 "nbformat_minor": 2
}
