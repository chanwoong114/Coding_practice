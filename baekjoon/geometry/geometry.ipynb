{
 "cells": [
  {
   "cell_type": "code",
   "execution_count": 7,
   "metadata": {},
   "outputs": [],
   "source": [
    "square = []\n",
    "dic = {}\n",
    "\n",
    "for _ in range(3):\n",
    "    square.append(list(map(int, input().split())))\n",
    "\n",
    "for i in range(3):\n",
    "    for j in range(2):\n",
    "        dic[square[i][j]] = dic.get(square[i][j], 0) + 1"
   ]
  },
  {
   "cell_type": "code",
   "execution_count": 4,
   "metadata": {},
   "outputs": [
    {
     "ename": "TypeError",
     "evalue": "cannot unpack non-iterable int object",
     "output_type": "error",
     "traceback": [
      "\u001b[1;31m---------------------------------------------------------------------------\u001b[0m",
      "\u001b[1;31mTypeError\u001b[0m                                 Traceback (most recent call last)",
      "Cell \u001b[1;32mIn[4], line 2\u001b[0m\n\u001b[0;32m      1\u001b[0m \u001b[39mif\u001b[39;00m \u001b[39mlen\u001b[39m(dic) \u001b[39m==\u001b[39m \u001b[39m2\u001b[39m:\n\u001b[1;32m----> 2\u001b[0m     s \u001b[39m=\u001b[39m [k \u001b[39mfor\u001b[39;00m v, k \u001b[39min\u001b[39;00m dic \u001b[39mif\u001b[39;00m k \u001b[39m==\u001b[39m \u001b[39m2\u001b[39m]\n\u001b[0;32m      4\u001b[0m \u001b[39melse\u001b[39;00m:\n\u001b[0;32m      5\u001b[0m     s \u001b[39m=\u001b[39m [k \u001b[39mfor\u001b[39;00m v, k \u001b[39min\u001b[39;00m dic \u001b[39mif\u001b[39;00m k \u001b[39m==\u001b[39m \u001b[39m1\u001b[39m]\n",
      "Cell \u001b[1;32mIn[4], line 2\u001b[0m, in \u001b[0;36m<listcomp>\u001b[1;34m(.0)\u001b[0m\n\u001b[0;32m      1\u001b[0m \u001b[39mif\u001b[39;00m \u001b[39mlen\u001b[39m(dic) \u001b[39m==\u001b[39m \u001b[39m2\u001b[39m:\n\u001b[1;32m----> 2\u001b[0m     s \u001b[39m=\u001b[39m [k \u001b[39mfor\u001b[39;00m v, k \u001b[39min\u001b[39;00m dic \u001b[39mif\u001b[39;00m k \u001b[39m==\u001b[39m \u001b[39m2\u001b[39m]\n\u001b[0;32m      4\u001b[0m \u001b[39melse\u001b[39;00m:\n\u001b[0;32m      5\u001b[0m     s \u001b[39m=\u001b[39m [k \u001b[39mfor\u001b[39;00m v, k \u001b[39min\u001b[39;00m dic \u001b[39mif\u001b[39;00m k \u001b[39m==\u001b[39m \u001b[39m1\u001b[39m]\n",
      "\u001b[1;31mTypeError\u001b[0m: cannot unpack non-iterable int object"
     ]
    }
   ],
   "source": [
    "if len(dic) == 2:\n",
    "    s = [k for v, k in dic if k == 2]\n",
    "\n",
    "else:\n",
    "    s = [k for v, k in dic if k == 1]\n",
    "\n",
    "s.sort()\n",
    "\n",
    "print(*s)"
   ]
  },
  {
   "cell_type": "code",
   "execution_count": 11,
   "metadata": {},
   "outputs": [
    {
     "name": "stdout",
     "output_type": "stream",
     "text": [
      "5 4\n",
      "7 2\n"
     ]
    }
   ],
   "source": [
    "for v, k in dic.items():\n",
    "    print(v, k)"
   ]
  },
  {
   "cell_type": "code",
   "execution_count": 13,
   "metadata": {},
   "outputs": [],
   "source": [
    "s = [v for v, k in dic.items() if k == 2]"
   ]
  },
  {
   "cell_type": "code",
   "execution_count": 14,
   "metadata": {},
   "outputs": [
    {
     "data": {
      "text/plain": [
       "[7]"
      ]
     },
     "execution_count": 14,
     "metadata": {},
     "output_type": "execute_result"
    }
   ],
   "source": [
    "s"
   ]
  }
 ],
 "metadata": {
  "kernelspec": {
   "display_name": "Python 3",
   "language": "python",
   "name": "python3"
  },
  "language_info": {
   "codemirror_mode": {
    "name": "ipython",
    "version": 3
   },
   "file_extension": ".py",
   "mimetype": "text/x-python",
   "name": "python",
   "nbconvert_exporter": "python",
   "pygments_lexer": "ipython3",
   "version": "3.9.13"
  },
  "orig_nbformat": 4,
  "vscode": {
   "interpreter": {
    "hash": "c4b9ebf4ca459396e2ad1150752490c26670c1a037c08cad955a4425787bec2e"
   }
  }
 },
 "nbformat": 4,
 "nbformat_minor": 2
}
