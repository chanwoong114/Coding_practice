{
 "cells": [
  {
   "cell_type": "code",
   "execution_count": 25,
   "metadata": {},
   "outputs": [
    {
     "name": "stdout",
     "output_type": "stream",
     "text": [
      "[[1, 2, 3, 4, 5], [1, 2, 3, 4], [1, 2, 3, 5], [1, 2, 3], [1, 2, 4, 5], [1, 2, 4], [1, 2, 5], [1, 2], [1, 3, 4, 5], [1, 3, 4], [1, 3, 5], [1, 3], [1, 4, 5], [1, 4], [1, 5], [1], [2, 3, 4, 5], [2, 3, 4], [2, 3, 5], [2, 3], [2, 4, 5], [2, 4], [2, 5], [2], [3, 4, 5], [3, 4], [3, 5], [3], [4, 5], [4], [5], []]\n"
     ]
    }
   ],
   "source": [
    "# 조합 기본\n",
    "\n",
    "nums = [1, 2, 3, 4, 5]\n",
    "\n",
    "answer_list = []\n",
    "\n",
    "def combi(n, ans):\n",
    "    if n == len(nums):\n",
    "        temp = [i for i in ans]\n",
    "        answer_list.append(temp)\n",
    "        return\n",
    "    ans.append(nums[n])\n",
    "    combi(n+1, ans)\n",
    "    ans.pop()\n",
    "    combi(n+1, ans)\n",
    "\n",
    "combi(0, [])\n",
    "print(answer_list)"
   ]
  },
  {
   "cell_type": "code",
   "execution_count": 27,
   "metadata": {},
   "outputs": [
    {
     "name": "stdout",
     "output_type": "stream",
     "text": [
      "[[1, 2], [1, 3], [1, 4], [1, 5], [2, 3], [2, 4], [2, 5], [3, 4], [3, 5], [4, 5]]\n"
     ]
    }
   ],
   "source": [
    "nums = [1, 2, 3, 4, 5]\n",
    "answer_list = []\n",
    "\n",
    "def nCr(n, ans, r):\n",
    "    if n == len(nums):\n",
    "        if len(ans) == r:\n",
    "            temp = [i for i in ans]\n",
    "            answer_list.append(temp)\n",
    "        return\n",
    "    ans.append(nums[n])\n",
    "    nCr(n + 1, ans, r)\n",
    "    ans.pop()\n",
    "    nCr(n + 1, ans, r)\n",
    "\n",
    "nCr(0, [], 2)\n",
    "print(answer_list)"
   ]
  },
  {
   "cell_type": "code",
   "execution_count": 19,
   "metadata": {},
   "outputs": [
    {
     "name": "stdout",
     "output_type": "stream",
     "text": [
      "497\n"
     ]
    }
   ],
   "source": [
    "# 2798 : 블랙잭\n",
    "from itertools import combinations\n",
    "\n",
    "n, m = map(int, input().split())\n",
    "\n",
    "card = list(map(int, input().split()))\n",
    "\n",
    "a = list(combinations(card, 3))\n",
    "b = m\n",
    "for i in range(len(a)):\n",
    "    if sum(a[i]) <= m:\n",
    "        if b > abs(m - sum(a[i])):\n",
    "            b = abs(m - sum(a[i]))\n",
    "            c = sum(a[i])\n",
    "print(c)"
   ]
  },
  {
   "cell_type": "code",
   "execution_count": 22,
   "metadata": {},
   "outputs": [
    {
     "name": "stdout",
     "output_type": "stream",
     "text": [
      "0\n"
     ]
    }
   ],
   "source": [
    "# 2231 : 분해합\n",
    "\n",
    "n = int(input())\n",
    "\n",
    "for i in range(n):\n",
    "    total = 0\n",
    "    for j in str(i):\n",
    "        total += int(j)\n",
    "    total += i\n",
    "\n",
    "    if total == n:\n",
    "        print(i)\n",
    "        break\n",
    "else:\n",
    "    print(0)"
   ]
  },
  {
   "cell_type": "code",
   "execution_count": null,
   "metadata": {},
   "outputs": [],
   "source": [
    "# 7568 : 덩치\n",
    "\n",
    "N = int(input())\n",
    "a = []\n",
    "for i in range(N):\n",
    "    b = tuple(map(int, input().split()))\n",
    "    a.append(b)"
   ]
  },
  {
   "cell_type": "code",
   "execution_count": 93,
   "metadata": {},
   "outputs": [],
   "source": [
    "b = []\n",
    "for i in a:\n",
    "    e = 0\n",
    "    for j in a:\n",
    "        d = 0\n",
    "        if i==j:\n",
    "            continue\n",
    "        if i[0]>j[0]:\n",
    "            d += 1\n",
    "        if i[1]>j[1]:\n",
    "            d += 1\n",
    "        if d==2:\n",
    "            e += 1\n",
    "    b.append(e)"
   ]
  },
  {
   "cell_type": "code",
   "execution_count": 95,
   "metadata": {},
   "outputs": [
    {
     "name": "stdout",
     "output_type": "stream",
     "text": [
      "2 2 1 2 5\n"
     ]
    }
   ],
   "source": [
    "l = list(set(b))\n",
    "l.sort(reverse=True)\n",
    "\n",
    "d=1\n",
    "for i in l:\n",
    "    e=0\n",
    "    \n",
    "    for j in range(len(b)):\n",
    "        if b[j] == i:\n",
    "            b[j] = str(d)\n",
    "            e += 1\n",
    "    d += e\n",
    "\n",
    "print(*b)"
   ]
  },
  {
   "cell_type": "code",
   "execution_count": 102,
   "metadata": {},
   "outputs": [
    {
     "name": "stdout",
     "output_type": "stream",
     "text": [
      "2 2 4 1 "
     ]
    }
   ],
   "source": [
    "# 7568 : 덩치\n",
    "# 틀림 - 왜틀렸는가?\n",
    "\n",
    "\n",
    "N = int(input())\n",
    "a = []\n",
    "for i in range(N):\n",
    "    b = tuple(map(int, input().split()))\n",
    "    a.append(b)\n",
    "\n",
    "b = []\n",
    "for i in a:\n",
    "    e = 0\n",
    "    for j in a:\n",
    "        d = 0\n",
    "        if i==j:\n",
    "            continue\n",
    "        if i[0]>j[0]:\n",
    "            d += 1\n",
    "        if i[1]>j[1]:\n",
    "            d += 1\n",
    "        if d==2:\n",
    "            e += 1\n",
    "    b.append(e)\n",
    "\n",
    "l = list(set(b))\n",
    "l.sort(reverse=True)\n",
    "\n",
    "d=1\n",
    "for i in l:\n",
    "    e=0\n",
    "    \n",
    "    for j in range(len(b)):\n",
    "        if b[j] == i:\n",
    "            b[j] = str(d)\n",
    "            e += 1\n",
    "    d += e\n",
    "\n",
    "for i in b:\n",
    "    print(i, end=' ')"
   ]
  },
  {
   "cell_type": "code",
   "execution_count": null,
   "metadata": {},
   "outputs": [],
   "source": [
    "N = int(input())\n",
    "a,ranking = [], []\n",
    "\n",
    "for _ in range(N):\n",
    "    weight, height = map(int, input().split())\n",
    "    a.append((weight, height))\n",
    "\n",
    "for i in a:\n",
    "    rank = 1\n",
    "    for j in a:\n",
    "        if i == j:\n",
    "            continue\n",
    "        if i[0]<j[0] and i[1]<j[1]:\n",
    "            rank += 1\n",
    "    print(rank, end=' ')"
   ]
  },
  {
   "cell_type": "code",
   "execution_count": 110,
   "metadata": {},
   "outputs": [
    {
     "name": "stdout",
     "output_type": "stream",
     "text": [
      "14\n"
     ]
    }
   ],
   "source": [
    "# 1018 : 체스판 다시 칠하기\n",
    "\n",
    "s = 'I am SSaffy jjkk'\n",
    "print(s.find('k'))"
   ]
  },
  {
   "cell_type": "code",
   "execution_count": null,
   "metadata": {},
   "outputs": [],
   "source": []
  }
 ],
 "metadata": {
  "kernelspec": {
   "display_name": "Python 3",
   "language": "python",
   "name": "python3"
  },
  "language_info": {
   "codemirror_mode": {
    "name": "ipython",
    "version": 3
   },
   "file_extension": ".py",
   "mimetype": "text/x-python",
   "name": "python",
   "nbconvert_exporter": "python",
   "pygments_lexer": "ipython3",
   "version": "3.9.13 (tags/v3.9.13:6de2ca5, May 17 2022, 16:36:42) [MSC v.1929 64 bit (AMD64)]"
  },
  "orig_nbformat": 4,
  "vscode": {
   "interpreter": {
    "hash": "c4b9ebf4ca459396e2ad1150752490c26670c1a037c08cad955a4425787bec2e"
   }
  }
 },
 "nbformat": 4,
 "nbformat_minor": 2
}
