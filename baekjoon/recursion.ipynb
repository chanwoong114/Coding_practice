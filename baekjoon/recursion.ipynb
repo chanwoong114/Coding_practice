{
 "cells": [
  {
   "cell_type": "code",
   "execution_count": 5,
   "metadata": {},
   "outputs": [
    {
     "name": "stdout",
     "output_type": "stream",
     "text": [
      "120\n"
     ]
    }
   ],
   "source": [
    "# 10872 : 팩토리얼\n",
    "\n",
    "def factorial(n):\n",
    "    result = 1\n",
    "    if n>0:\n",
    "        result = n * factorial(n-1)\n",
    "    \n",
    "    return result\n",
    "\n",
    "\n",
    "N = int(input())\n",
    "\n",
    "print(factorial(N))"
   ]
  },
  {
   "cell_type": "code",
   "execution_count": 10,
   "metadata": {},
   "outputs": [
    {
     "name": "stdout",
     "output_type": "stream",
     "text": [
      "1597\n"
     ]
    }
   ],
   "source": [
    "# 10870 : 재귀\n",
    "\n",
    "def fibonacci(n):\n",
    "    if n >= 3:\n",
    "        result = fibonacci(n-1) + fibonacci(n-2)\n",
    "    elif n >= 1:\n",
    "        result = 1\n",
    "    else:\n",
    "        result = 0\n",
    "    return result \n",
    "\n",
    "N = int(input())\n",
    "\n",
    "print(fibonacci(N))"
   ]
  },
  {
   "cell_type": "code",
   "execution_count": 16,
   "metadata": {},
   "outputs": [
    {
     "name": "stdout",
     "output_type": "stream",
     "text": [
      "1 2\n",
      "1 3\n",
      "1 3\n",
      "0 2\n",
      "0 1\n"
     ]
    }
   ],
   "source": [
    "# 25501 : 재귀의 귀재\n",
    "\n",
    "def recursion(s, l, r, b):\n",
    "    b += 1\n",
    "    if l >= r: return [1, b]\n",
    "    elif s[l] != s[r]: return [0, b]\n",
    "    else: return recursion(s, l+1, r-1, b)\n",
    "\n",
    "def isPalindrome(s):\n",
    "    b = 0\n",
    "    return recursion(s, 0, len(s)-1, b)\n",
    "\n",
    "N = int(input())\n",
    "for i in range(N):\n",
    "    a = str(input())\n",
    "    print(*isPalindrome(a))"
   ]
  },
  {
   "cell_type": "code",
   "execution_count": 11,
   "metadata": {},
   "outputs": [
    {
     "name": "stdout",
     "output_type": "stream",
     "text": [
      "5\n"
     ]
    }
   ],
   "source": [
    "# 24060 : 알고리즘 수업 - 병합 정렬\n",
    "\n",
    "# import sys\n",
    "# input = sys.stdin.readline\n",
    "\n",
    "def merge_sort(L):\n",
    "    if len(L) == 1:\n",
    "        return L\n",
    "    \n",
    "    mid = (len(L)+1)//2\n",
    "   \n",
    "    left = merge_sort(L[:mid])\n",
    "    right = merge_sort(L[mid:])\n",
    "    \n",
    "    i,j = 0,0\n",
    "    L2 = []\n",
    "    while i < len(left) and j < len(right):\n",
    "        if left[i] < right[j]:\n",
    "            L2.append(left[i])\n",
    "            ans.append(left[i])\n",
    "            i+=1\n",
    "        else:\n",
    "            L2.append(right[j])\n",
    "            ans.append(right[j])\n",
    "            j+=1\n",
    "    while i < len(left):\n",
    "        L2.append(left[i])\n",
    "        ans.append(left[i])\n",
    "        i+=1\n",
    "    while j < len(right):\n",
    "        L2.append(right[j])\n",
    "        ans.append(right[j])\n",
    "        j+=1\n",
    "    \n",
    "    return L2\n",
    "\n",
    "n, k = map(int,input().split())\n",
    "a = list(map(int,input().split()))\n",
    "ans = []\n",
    "merge_sort(a)\n",
    "\n",
    "if len(ans) >= k:\n",
    "    print(ans[k-1])\n",
    "else:\n",
    "    print(-1)"
   ]
  },
  {
   "cell_type": "code",
   "execution_count": 13,
   "metadata": {},
   "outputs": [
    {
     "data": {
      "text/plain": [
       "([1, 4, 2, 3, 5], [1, 4, 1, 2, 4, 3, 5, 1, 2, 3, 4, 5])"
      ]
     },
     "execution_count": 13,
     "metadata": {},
     "output_type": "execute_result"
    }
   ],
   "source": [
    "def ms(L):\n",
    "    if len(L) == 1:\n",
    "        return L\n",
    "    \n",
    "    mid = len(L)+1\n",
    "\n",
    "    left = ms(L[:mid])\n",
    "    right = ms(L[mid:])\n",
    "    i, j = 0, 0\n",
    "\n",
    "    while i<len(left)"
   ]
  },
  {
   "cell_type": "code",
   "execution_count": 14,
   "metadata": {},
   "outputs": [],
   "source": [
    "dic = {'a':2}\n",
    "dic['a'] = 1"
   ]
  },
  {
   "cell_type": "code",
   "execution_count": 16,
   "metadata": {},
   "outputs": [],
   "source": [
    "dic['a'] += 1"
   ]
  },
  {
   "cell_type": "code",
   "execution_count": 17,
   "metadata": {},
   "outputs": [
    {
     "data": {
      "text/plain": [
       "2"
      ]
     },
     "execution_count": 17,
     "metadata": {},
     "output_type": "execute_result"
    }
   ],
   "source": [
    "dic['a']"
   ]
  },
  {
   "cell_type": "code",
   "execution_count": 18,
   "metadata": {},
   "outputs": [
    {
     "data": {
      "text/plain": [
       "2"
      ]
     },
     "execution_count": 18,
     "metadata": {},
     "output_type": "execute_result"
    }
   ],
   "source": [
    "dic['a']"
   ]
  },
  {
   "cell_type": "code",
   "execution_count": 24,
   "metadata": {},
   "outputs": [
    {
     "data": {
      "text/plain": [
       "['a']"
      ]
     },
     "execution_count": 24,
     "metadata": {},
     "output_type": "execute_result"
    }
   ],
   "source": [
    "[k for k, v in dic.items() if v==2]"
   ]
  },
  {
   "cell_type": "code",
   "execution_count": null,
   "metadata": {},
   "outputs": [],
   "source": []
  }
 ],
 "metadata": {
  "kernelspec": {
   "display_name": "Python 3",
   "language": "python",
   "name": "python3"
  },
  "language_info": {
   "codemirror_mode": {
    "name": "ipython",
    "version": 3
   },
   "file_extension": ".py",
   "mimetype": "text/x-python",
   "name": "python",
   "nbconvert_exporter": "python",
   "pygments_lexer": "ipython3",
   "version": "3.9.13"
  },
  "orig_nbformat": 4,
  "vscode": {
   "interpreter": {
    "hash": "c4b9ebf4ca459396e2ad1150752490c26670c1a037c08cad955a4425787bec2e"
   }
  }
 },
 "nbformat": 4,
 "nbformat_minor": 2
}
