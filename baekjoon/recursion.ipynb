{
 "cells": [
  {
   "cell_type": "code",
   "execution_count": 5,
   "metadata": {},
   "outputs": [
    {
     "name": "stdout",
     "output_type": "stream",
     "text": [
      "120\n"
     ]
    }
   ],
   "source": [
    "# 10872 : 팩토리얼\n",
    "\n",
    "def factorial(n):\n",
    "    result = 1\n",
    "    if n>0:\n",
    "        result = n * factorial(n-1)\n",
    "    \n",
    "    return result\n",
    "\n",
    "\n",
    "N = int(input())\n",
    "\n",
    "print(factorial(N))"
   ]
  },
  {
   "cell_type": "code",
   "execution_count": 10,
   "metadata": {},
   "outputs": [
    {
     "name": "stdout",
     "output_type": "stream",
     "text": [
      "1597\n"
     ]
    }
   ],
   "source": [
    "# 10870 : 재귀\n",
    "\n",
    "def fibonacci(n):\n",
    "    if n >= 3:\n",
    "        result = fibonacci(n-1) + fibonacci(n-2)\n",
    "    elif n >= 1:\n",
    "        result = 1\n",
    "    else:\n",
    "        result = 0\n",
    "    return result \n",
    "\n",
    "N = int(input())\n",
    "\n",
    "print(fibonacci(N))"
   ]
  },
  {
   "cell_type": "code",
   "execution_count": 16,
   "metadata": {},
   "outputs": [
    {
     "name": "stdout",
     "output_type": "stream",
     "text": [
      "1 2\n",
      "1 3\n",
      "1 3\n",
      "0 2\n",
      "0 1\n"
     ]
    }
   ],
   "source": [
    "# 25501 : 재귀의 귀재\n",
    "\n",
    "def recursion(s, l, r, b):\n",
    "    b += 1\n",
    "    if l >= r: return [1, b]\n",
    "    elif s[l] != s[r]: return [0, b]\n",
    "    else: return recursion(s, l+1, r-1, b)\n",
    "\n",
    "def isPalindrome(s):\n",
    "    b = 0\n",
    "    return recursion(s, 0, len(s)-1, b)\n",
    "\n",
    "N = int(input())\n",
    "for i in range(N):\n",
    "    a = str(input())\n",
    "    print(*isPalindrome(a))"
   ]
  },
  {
   "cell_type": "code",
   "execution_count": 4,
   "metadata": {},
   "outputs": [
    {
     "name": "stdout",
     "output_type": "stream",
     "text": [
      "5\n"
     ]
    }
   ],
   "source": [
    "# 24060 : 알고리즘 수업 - 병합 정렬 1\n",
    "\n",
    "# import sys\n",
    "# input = sys.stdin.readline\n",
    "\n",
    "def merge_sort(ll):\n",
    "    if len(ll) == 1:\n",
    "        return ll\n",
    "    \n",
    "    mid = (len(ll)+1)//2\n",
    "\n",
    "    left = merge_sort(ll[:mid])\n",
    "    right = merge_sort(ll[mid:])\n",
    "\n",
    "    i, j = 0, 0\n",
    "\n",
    "    lll = []\n",
    "    while i < len(left) and j < len(right):\n",
    "        if left[i] < right[j]:\n",
    "            lll.append(left[i])\n",
    "            ans.append(left[i])\n",
    "            i+=1\n",
    "        else:\n",
    "            lll.append(right[j])\n",
    "            ans.append(right[j])\n",
    "            j+=1\n",
    "    while i < len(left):\n",
    "        lll.append(left[i])\n",
    "        ans.append(left[i])\n",
    "        i+=1\n",
    "    while j < len(right):\n",
    "        lll.append(right[j])\n",
    "        ans.append(right[j])\n",
    "        j+=1\n",
    "    \n",
    "    return lll\n",
    "\n",
    "n, m = map(int, input().split())\n",
    "a = list(map(int,input().split()))\n",
    "ans = []\n",
    "merge_sort(a)\n",
    "\n",
    "if m <= len(ans):\n",
    "    print(ans[m-1])\n",
    "else:\n",
    "    print(-1)"
   ]
  },
  {
   "cell_type": "code",
   "execution_count": 18,
   "metadata": {},
   "outputs": [
    {
     "name": "stdout",
     "output_type": "stream",
     "text": [
      "***************************\n",
      "* ** ** ** ** ** ** ** ** *\n",
      "***************************\n",
      "***   ******   ******   ***\n",
      "* *   * ** *   * ** *   * *\n",
      "***   ******   ******   ***\n",
      "***************************\n",
      "* ** ** ** ** ** ** ** ** *\n",
      "***************************\n",
      "*********         *********\n",
      "* ** ** *         * ** ** *\n",
      "*********         *********\n",
      "***   ***         ***   ***\n",
      "* *   * *         * *   * *\n",
      "***   ***         ***   ***\n",
      "*********         *********\n",
      "* ** ** *         * ** ** *\n",
      "*********         *********\n",
      "***************************\n",
      "* ** ** ** ** ** ** ** ** *\n",
      "***************************\n",
      "***   ******   ******   ***\n",
      "* *   * ** *   * ** *   * *\n",
      "***   ******   ******   ***\n",
      "***************************\n",
      "* ** ** ** ** ** ** ** ** *\n",
      "***************************\n"
     ]
    }
   ],
   "source": [
    "# 2447 : 별찍기\n",
    "\n",
    "def star(n):\n",
    "    if n == 1:\n",
    "        return ['*']\n",
    "    \n",
    "    Star = star(n//3)\n",
    "    L = []\n",
    "\n",
    "    for i in Star:\n",
    "        L.append(i * 3)\n",
    "    for i in Star:\n",
    "        L.append(i + ' '*(n//3) + i)\n",
    "    for i in Star:\n",
    "        L.append(i * 3)\n",
    "    \n",
    "    return L\n",
    "\n",
    "N = int(input())\n",
    "\n",
    "print('\\n'.join(star(N)))"
   ]
  },
  {
   "cell_type": "code",
   "execution_count": 19,
   "metadata": {},
   "outputs": [
    {
     "name": "stdout",
     "output_type": "stream",
     "text": [
      "7\n"
     ]
    }
   ],
   "source": [
    "# 11729 : 하노이 탑 이동 순서\n",
    "\n",
    "# 홀수 일때 : 1번이 3번으로 간다.\n",
    "# 짝수 일때 : 1번이 2번으로 간다.\n",
    "\n",
    "# 재귀로 전에 했던 것을 반복한다.\n",
    "\n",
    "\n",
    "def hanoi(n):\n",
    "    a = 2**n-1\n",
    "    L = []\n",
    "    if n == 1:\n",
    "        return L.append \n",
    "\n",
    "N = int(input())\n",
    "\n",
    "print(hanoi(N))"
   ]
  },
  {
   "cell_type": "code",
   "execution_count": null,
   "metadata": {},
   "outputs": [],
   "source": [
    "1, 3, 7, 15, 31, 63"
   ]
  }
 ],
 "metadata": {
  "kernelspec": {
   "display_name": "Python 3",
   "language": "python",
   "name": "python3"
  },
  "language_info": {
   "codemirror_mode": {
    "name": "ipython",
    "version": 3
   },
   "file_extension": ".py",
   "mimetype": "text/x-python",
   "name": "python",
   "nbconvert_exporter": "python",
   "pygments_lexer": "ipython3",
   "version": "3.10.9 (tags/v3.10.9:1dd9be6, Dec  6 2022, 20:01:21) [MSC v.1934 64 bit (AMD64)]"
  },
  "orig_nbformat": 4,
  "vscode": {
   "interpreter": {
    "hash": "5dc59e9617888726cc9d3bf24f35a91c9564c765de72e7d10eeba1b92ad073c3"
   }
  }
 },
 "nbformat": 4,
 "nbformat_minor": 2
}
