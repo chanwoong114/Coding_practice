{
 "cells": [
  {
   "cell_type": "code",
   "execution_count": 26,
   "metadata": {},
   "outputs": [
    {
     "name": "stdout",
     "output_type": "stream",
     "text": [
      "2 "
     ]
    }
   ],
   "source": [
    "N = int(input())\n",
    "\n",
    "L = [int(input()) for i in range(N)]\n",
    "dic = {}\n",
    "\n",
    "for j in L:\n",
    "    for i in range(2, max(L)//2):\n",
    "        na = j%i\n",
    "        if dic.get(i, na) == na:\n",
    "            dic[i] = na\n",
    "        else:\n",
    "            dic[i] = -1\n",
    "\n",
    "for k, v in dic.items():\n",
    "    if v > -1:\n",
    "        print(k, end = ' ')"
   ]
  },
  {
   "cell_type": "code",
   "execution_count": 16,
   "metadata": {},
   "outputs": [
    {
     "name": "stdout",
     "output_type": "stream",
     "text": [
      "2\n",
      "4\n"
     ]
    }
   ],
   "source": [
    "for i in dic:\n",
    "    if len(set(dic[i])) == 1:\n",
    "        print(i)"
   ]
  },
  {
   "cell_type": "code",
   "execution_count": 1,
   "metadata": {},
   "outputs": [
    {
     "name": "stdout",
     "output_type": "stream",
     "text": [
      "10\n"
     ]
    }
   ],
   "source": [
    "def fac(n):\n",
    "    if n == 0:\n",
    "        return 1\n",
    "    \n",
    "    n = n * fac(n-1)\n",
    "    return n\n",
    "\n",
    "from math import factorial\n",
    "\n",
    "N, K = map(int, input().split())\n",
    "\n",
    "print((factorial(N)//(factorial(N-K)*factorial(K)))%10007)"
   ]
  },
  {
   "cell_type": "code",
   "execution_count": null,
   "metadata": {},
   "outputs": [],
   "source": []
  }
 ],
 "metadata": {
  "kernelspec": {
   "display_name": "Python 3",
   "language": "python",
   "name": "python3"
  },
  "language_info": {
   "codemirror_mode": {
    "name": "ipython",
    "version": 3
   },
   "file_extension": ".py",
   "mimetype": "text/x-python",
   "name": "python",
   "nbconvert_exporter": "python",
   "pygments_lexer": "ipython3",
   "version": "3.10.9"
  },
  "orig_nbformat": 4,
  "vscode": {
   "interpreter": {
    "hash": "5dc59e9617888726cc9d3bf24f35a91c9564c765de72e7d10eeba1b92ad073c3"
   }
  }
 },
 "nbformat": 4,
 "nbformat_minor": 2
}
