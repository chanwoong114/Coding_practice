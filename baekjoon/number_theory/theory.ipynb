{
 "cells": [
  {
   "cell_type": "code",
   "execution_count": 26,
   "metadata": {},
   "outputs": [
    {
     "name": "stdout",
     "output_type": "stream",
     "text": [
      "2 "
     ]
    }
   ],
   "source": [
    "N = int(input())\n",
    "\n",
    "L = [int(input()) for i in range(N)]\n",
    "dic = {}\n",
    "\n",
    "for j in L:\n",
    "    for i in range(2, max(L)//2):\n",
    "        na = j%i\n",
    "        if dic.get(i, na) == na:\n",
    "            dic[i] = na\n",
    "        else:\n",
    "            dic[i] = -1\n",
    "\n",
    "for k, v in dic.items():\n",
    "    if v > -1:\n",
    "        print(k, end = ' ')"
   ]
  },
  {
   "cell_type": "code",
   "execution_count": 16,
   "metadata": {},
   "outputs": [
    {
     "name": "stdout",
     "output_type": "stream",
     "text": [
      "2\n",
      "4\n"
     ]
    }
   ],
   "source": [
    "for i in dic:\n",
    "    if len(set(dic[i])) == 1:\n",
    "        print(i)"
   ]
  },
  {
   "cell_type": "code",
   "execution_count": 27,
   "metadata": {},
   "outputs": [
    {
     "data": {
      "text/plain": [
       "{2: 0,\n",
       " 3: -1,\n",
       " 4: -1,\n",
       " 5: -1,\n",
       " 6: -1,\n",
       " 7: -1,\n",
       " 8: -1,\n",
       " 9: -1,\n",
       " 10: -1,\n",
       " 11: -1,\n",
       " 12: -1,\n",
       " 13: -1,\n",
       " 14: -1,\n",
       " 15: -1,\n",
       " 16: -1,\n",
       " 17: -1,\n",
       " 18: -1,\n",
       " 19: -1,\n",
       " 20: -1,\n",
       " 21: -1,\n",
       " 22: -1,\n",
       " 23: -1,\n",
       " 24: -1,\n",
       " 25: -1,\n",
       " 26: -1,\n",
       " 27: -1,\n",
       " 28: -1,\n",
       " 29: -1,\n",
       " 30: -1,\n",
       " 31: -1,\n",
       " 32: -1,\n",
       " 33: -1,\n",
       " 34: -1,\n",
       " 35: -1,\n",
       " 36: -1,\n",
       " 37: -1,\n",
       " 38: -1,\n",
       " 39: -1}"
      ]
     },
     "execution_count": 27,
     "metadata": {},
     "output_type": "execute_result"
    }
   ],
   "source": [
    "dic"
   ]
  }
 ],
 "metadata": {
  "kernelspec": {
   "display_name": "Python 3",
   "language": "python",
   "name": "python3"
  },
  "language_info": {
   "codemirror_mode": {
    "name": "ipython",
    "version": 3
   },
   "file_extension": ".py",
   "mimetype": "text/x-python",
   "name": "python",
   "nbconvert_exporter": "python",
   "pygments_lexer": "ipython3",
   "version": "3.9.13"
  },
  "orig_nbformat": 4,
  "vscode": {
   "interpreter": {
    "hash": "c4b9ebf4ca459396e2ad1150752490c26670c1a037c08cad955a4425787bec2e"
   }
  }
 },
 "nbformat": 4,
 "nbformat_minor": 2
}
