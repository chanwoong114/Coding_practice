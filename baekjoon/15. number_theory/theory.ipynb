{
 "cells": [
  {
   "cell_type": "code",
   "execution_count": 26,
   "metadata": {},
   "outputs": [
    {
     "name": "stdout",
     "output_type": "stream",
     "text": [
      "2 "
     ]
    }
   ],
   "source": [
    "N = int(input())\n",
    "\n",
    "L = [int(input()) for i in range(N)]\n",
    "dic = {}\n",
    "\n",
    "for j in L:\n",
    "    for i in range(2, max(L)//2):\n",
    "        na = j%i\n",
    "        if dic.get(i, na) == na:\n",
    "            dic[i] = na\n",
    "        else:\n",
    "            dic[i] = -1\n",
    "\n",
    "for k, v in dic.items():\n",
    "    if v > -1:\n",
    "        print(k, end = ' ')"
   ]
  },
  {
   "cell_type": "code",
   "execution_count": 16,
   "metadata": {},
   "outputs": [
    {
     "name": "stdout",
     "output_type": "stream",
     "text": [
      "2\n",
      "4\n"
     ]
    }
   ],
   "source": [
    "for i in dic:\n",
    "    if len(set(dic[i])) == 1:\n",
    "        print(i)"
   ]
  },
  {
   "cell_type": "code",
   "execution_count": 1,
   "metadata": {},
   "outputs": [
    {
     "name": "stdout",
     "output_type": "stream",
     "text": [
      "10\n"
     ]
    }
   ],
   "source": [
    "def fac(n):\n",
    "    if n == 0:\n",
    "        return 1\n",
    "    \n",
    "    n = n * fac(n-1)\n",
    "    return n\n",
    "\n",
    "from math import factorial\n",
    "\n",
    "N, K = map(int, input().split())\n",
    "\n",
    "print((factorial(N)//(factorial(N-K)*factorial(K)))%10007)"
   ]
  },
  {
   "cell_type": "code",
   "execution_count": 21,
   "metadata": {},
   "outputs": [],
   "source": [
    "def fib(m):\n",
    "    if m == 1:\n",
    "        return [1, 1]\n",
    "    \n",
    "    lst = [0] + fib(m-1) + [0]\n",
    "    \n",
    "    for i in range(len(lst)-1):\n",
    "        lst[i] = lst[i] + lst[i+1]\n",
    "\n",
    "    lst.pop()\n",
    "\n",
    "    return lst"
   ]
  },
  {
   "cell_type": "code",
   "execution_count": 22,
   "metadata": {},
   "outputs": [
    {
     "data": {
      "text/plain": [
       "[1, 5, 10, 10, 5, 1]"
      ]
     },
     "execution_count": 22,
     "metadata": {},
     "output_type": "execute_result"
    }
   ],
   "source": [
    "fib(5)"
   ]
  },
  {
   "cell_type": "code",
   "execution_count": 23,
   "metadata": {},
   "outputs": [],
   "source": [
    "kinds, index = map(str, input().split())"
   ]
  },
  {
   "cell_type": "code",
   "execution_count": 24,
   "metadata": {},
   "outputs": [
    {
     "data": {
      "text/plain": [
       "'b'"
      ]
     },
     "execution_count": 24,
     "metadata": {},
     "output_type": "execute_result"
    }
   ],
   "source": [
    "index"
   ]
  },
  {
   "cell_type": "code",
   "execution_count": 4,
   "metadata": {},
   "outputs": [
    {
     "name": "stdout",
     "output_type": "stream",
     "text": [
      "2\n"
     ]
    }
   ],
   "source": [
    "N, K = map(int, input().split())\n",
    "\n",
    "lst = [1]\n",
    "\n",
    "for i in range(1, N+1):\n",
    "    lst.append(lst[i-1]*i)\n",
    "\n",
    "N = str(lst[N]//(lst[N-K]*lst[K]))\n",
    "\n",
    "count = 0\n",
    "\n",
    "for i in range(len(N)-1, -1, -1):\n",
    "    if N[i] == '0':\n",
    "        count += 1\n",
    "    else:\n",
    "        break\n",
    "\n",
    "print(count)\n"
   ]
  },
  {
   "cell_type": "code",
   "execution_count": 3,
   "metadata": {},
   "outputs": [
    {
     "data": {
      "text/plain": [
       "1"
      ]
     },
     "execution_count": 3,
     "metadata": {},
     "output_type": "execute_result"
    }
   ],
   "source": [
    "lst[0]*1"
   ]
  },
  {
   "cell_type": "code",
   "execution_count": null,
   "metadata": {},
   "outputs": [],
   "source": []
  }
 ],
 "metadata": {
  "kernelspec": {
   "display_name": "Python 3",
   "language": "python",
   "name": "python3"
  },
  "language_info": {
   "codemirror_mode": {
    "name": "ipython",
    "version": 3
   },
   "file_extension": ".py",
   "mimetype": "text/x-python",
   "name": "python",
   "nbconvert_exporter": "python",
   "pygments_lexer": "ipython3",
   "version": "3.9.13"
  },
  "orig_nbformat": 4,
  "vscode": {
   "interpreter": {
    "hash": "c4b9ebf4ca459396e2ad1150752490c26670c1a037c08cad955a4425787bec2e"
   }
  }
 },
 "nbformat": 4,
 "nbformat_minor": 2
}
