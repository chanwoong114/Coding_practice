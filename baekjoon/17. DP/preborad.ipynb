{
 "cells": [
  {
   "cell_type": "code",
   "execution_count": 6,
   "metadata": {},
   "outputs": [],
   "source": [
    "lst = [[[0]*51]*51]*51"
   ]
  },
  {
   "cell_type": "code",
   "execution_count": 38,
   "metadata": {},
   "outputs": [
    {
     "name": "stdout",
     "output_type": "stream",
     "text": [
      "w(1, 1, 50) = 1048576\n"
     ]
    }
   ],
   "source": [
    "\n",
    "lst = [[[0 for _ in range(51)] for _ in range(51)] for _ in range(51)]\n",
    "\n",
    "\n",
    "\n",
    "for i in range(51):\n",
    "    for j in range(51):\n",
    "        for k in range(51):\n",
    "            if i <= 0 or j <= 0 or k <= 0:\n",
    "                lst[i][j][k] = 1\n",
    "            elif i > 20 or j > 20 or k > 20:\n",
    "                lst[i][j][k] = 1048576\n",
    "            elif i < j and j < k:\n",
    "                lst[i][j][k] = lst[i][j][k-1] + lst[i][j-1][k-1] - lst[i][j-1][k]\n",
    "            else:\n",
    "                lst[i][j][k] = lst[i-1][j][k] + lst[i-1][j-1][k] + lst[i-1][j][k-1] - lst[i-1][j-1][k-1]\n",
    "\n",
    "\n",
    "while True:\n",
    "    a,b,c = map(int, input().split())\n",
    "    if a == -1 and b == -1 and c == -1:\n",
    "        break\n",
    "    if a<0 or b<0 or c<0:\n",
    "        print(f'w({a}, {b}, {c}) = {1}')\n",
    "    else:\n",
    "        print(f'w({a}, {b}, {c}) = {lst[a][b][c]}')"
   ]
  },
  {
   "cell_type": "code",
   "execution_count": 3,
   "metadata": {},
   "outputs": [],
   "source": [
    "lst = [1,2,3]"
   ]
  },
  {
   "cell_type": "code",
   "execution_count": 4,
   "metadata": {},
   "outputs": [],
   "source": [
    "location = lst.index(min(lst))"
   ]
  },
  {
   "cell_type": "code",
   "execution_count": 5,
   "metadata": {},
   "outputs": [
    {
     "data": {
      "text/plain": [
       "0"
      ]
     },
     "execution_count": 5,
     "metadata": {},
     "output_type": "execute_result"
    }
   ],
   "source": [
    "location"
   ]
  },
  {
   "cell_type": "code",
   "execution_count": 16,
   "metadata": {},
   "outputs": [
    {
     "ename": "OverflowError",
     "evalue": "cannot fit 'int' into an index-sized integer",
     "output_type": "error",
     "traceback": [
      "\u001b[1;31m---------------------------------------------------------------------------\u001b[0m",
      "\u001b[1;31mOverflowError\u001b[0m                             Traceback (most recent call last)",
      "Cell \u001b[1;32mIn[16], line 8\u001b[0m\n\u001b[0;32m      6\u001b[0m m \u001b[39m=\u001b[39m \u001b[39m10\u001b[39m\u001b[39m*\u001b[39m\u001b[39m*\u001b[39mn\n\u001b[0;32m      7\u001b[0m k \u001b[39m=\u001b[39m m\u001b[39m/\u001b[39m\u001b[39m/\u001b[39m\u001b[39m10\u001b[39m\n\u001b[1;32m----> 8\u001b[0m DP \u001b[39m=\u001b[39m [\u001b[39m0\u001b[39;49m]\u001b[39m*\u001b[39;49m(m\u001b[39m+\u001b[39;49m\u001b[39m1\u001b[39;49m)\n\u001b[0;32m      9\u001b[0m \u001b[39mfor\u001b[39;00m i \u001b[39min\u001b[39;00m \u001b[39mrange\u001b[39m(k, m):\n\u001b[0;32m     10\u001b[0m     count \u001b[39m=\u001b[39m \u001b[39m0\u001b[39m\n",
      "\u001b[1;31mOverflowError\u001b[0m: cannot fit 'int' into an index-sized integer"
     ]
    }
   ],
   "source": [
    "n = int(input())\n",
    "count = 0\n",
    "if n == 1:\n",
    "    print(9)\n",
    "else:\n",
    "    m = 10**n\n",
    "    k = m//10\n",
    "    DP = [0]*(m+1)\n",
    "    for i in range(k, m):\n",
    "        count = 0\n",
    "        for j in range(n-1):\n",
    "            if abs(int(str(i)[j])-int(str(i)[j+1])) == 1:\n",
    "                count +=1\n",
    "        if count == n-1:\n",
    "            DP[i] = 1\n",
    "        DP[i] += DP[i-1]\n",
    "    \n",
    "    print(DP[m-1]%1000000000)"
   ]
  },
  {
   "cell_type": "code",
   "execution_count": 20,
   "metadata": {},
   "outputs": [
    {
     "name": "stdout",
     "output_type": "stream",
     "text": [
      "32\n"
     ]
    }
   ],
   "source": [
    "N = int(input())\n",
    "\n",
    "dp = [[0]*10 for _ in range(N+1)]\n",
    "for i in range(1, 10):\n",
    "    dp[1][i] = 1\n",
    "\n",
    "MOD = 1000000000\n",
    "\n",
    "for i in range(2, N+1):\n",
    "    for j in range(10):\n",
    "        if j == 0:\n",
    "            dp[i][j] = dp[i-1][1]\n",
    "        elif j == 9:\n",
    "            dp[i][j] = dp[i-1][8]\n",
    "        else:\n",
    "            dp[i][j] = dp[i-1][j-1] + dp[i-1][j+1] \n",
    "\n",
    "print(sum(dp[N]) % MOD)"
   ]
  },
  {
   "cell_type": "code",
   "execution_count": 21,
   "metadata": {},
   "outputs": [
    {
     "data": {
      "text/plain": [
       "[[0, 0, 0, 0, 0, 0, 0, 0, 0, 0],\n",
       " [0, 1, 1, 1, 1, 1, 1, 1, 1, 1],\n",
       " [1, 1, 2, 2, 2, 2, 2, 2, 2, 1],\n",
       " [1, 3, 3, 4, 4, 4, 4, 4, 3, 2]]"
      ]
     },
     "execution_count": 21,
     "metadata": {},
     "output_type": "execute_result"
    }
   ],
   "source": [
    "dp"
   ]
  },
  {
   "cell_type": "code",
   "execution_count": null,
   "metadata": {},
   "outputs": [],
   "source": []
  }
 ],
 "metadata": {
  "kernelspec": {
   "display_name": "Python 3",
   "language": "python",
   "name": "python3"
  },
  "language_info": {
   "codemirror_mode": {
    "name": "ipython",
    "version": 3
   },
   "file_extension": ".py",
   "mimetype": "text/x-python",
   "name": "python",
   "nbconvert_exporter": "python",
   "pygments_lexer": "ipython3",
   "version": "3.9.13"
  },
  "orig_nbformat": 4,
  "vscode": {
   "interpreter": {
    "hash": "c4b9ebf4ca459396e2ad1150752490c26670c1a037c08cad955a4425787bec2e"
   }
  }
 },
 "nbformat": 4,
 "nbformat_minor": 2
}
