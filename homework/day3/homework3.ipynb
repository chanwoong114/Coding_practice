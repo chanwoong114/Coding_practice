{
 "cells": [
  {
   "cell_type": "code",
   "execution_count": 14,
   "metadata": {},
   "outputs": [
    {
     "name": "stdout",
     "output_type": "stream",
     "text": [
      "윤년입니다.\n"
     ]
    }
   ],
   "source": [
    "# 윤년\n",
    "\n",
    "year = int(input())\n",
    "\n",
    "def leap_year(n):\n",
    "    if n%4 == 0:\n",
    "        if n%100 == 0:\n",
    "            if n%400 == 0:\n",
    "                print('윤년입니다.')\n",
    "                return\n",
    "            else:\n",
    "                print('윤년이 아닙니다.')\n",
    "                return\n",
    "        else:\n",
    "            print('윤년입니다.')\n",
    "            return\n",
    "    else:            \n",
    "        print('윤년이 아닙니다.')\n",
    "        return\n",
    "\n",
    "leap_year(year)"
   ]
  },
  {
   "cell_type": "code",
   "execution_count": null,
   "metadata": {},
   "outputs": [],
   "source": []
  },
  {
   "cell_type": "code",
   "execution_count": 10,
   "metadata": {},
   "outputs": [
    {
     "name": "stdout",
     "output_type": "stream",
     "text": [
      "직각삼각형\n"
     ]
    }
   ],
   "source": [
    "# 삼각형 판별\n",
    "\n",
    "s_triangle = list(map(int, input().split()))\n",
    "\n",
    "s_triangle.sort()\n",
    "\n",
    "if s_triangle[0] == s_triangle[1] and s_triangle[0] == s_triangle[2]:\n",
    "    print('정삼각형')\n",
    "\n",
    "elif s_triangle[0] == s_triangle[1] or s_triangle[1] == s_triangle[2]:\n",
    "        print('이등병삼각형')\n",
    "\n",
    "elif s_triangle[0]**2 + s_triangle[1]**2 == s_triangle[2]**2:\n",
    "    print('직각삼각형')\n",
    "\n",
    "elif s_triangle[0] + s_triangle[1] > s_triangle[2]:\n",
    "    print('삼각형')\n",
    "\n",
    "else:\n",
    "    print('삼각형 아님')"
   ]
  },
  {
   "cell_type": "code",
   "execution_count": null,
   "metadata": {},
   "outputs": [],
   "source": []
  }
 ],
 "metadata": {
  "kernelspec": {
   "display_name": "Python 3",
   "language": "python",
   "name": "python3"
  },
  "language_info": {
   "codemirror_mode": {
    "name": "ipython",
    "version": 3
   },
   "file_extension": ".py",
   "mimetype": "text/x-python",
   "name": "python",
   "nbconvert_exporter": "python",
   "pygments_lexer": "ipython3",
   "version": "3.9.13"
  },
  "orig_nbformat": 4,
  "vscode": {
   "interpreter": {
    "hash": "c4b9ebf4ca459396e2ad1150752490c26670c1a037c08cad955a4425787bec2e"
   }
  }
 },
 "nbformat": 4,
 "nbformat_minor": 2
}
