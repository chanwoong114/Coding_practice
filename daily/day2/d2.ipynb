{
 "cells": [
  {
   "cell_type": "code",
   "execution_count": 5,
   "metadata": {},
   "outputs": [
    {
     "name": "stdout",
     "output_type": "stream",
     "text": [
      "(0.633, -2.633)\n"
     ]
    }
   ],
   "source": [
    "# 1번\n",
    "\n",
    "a = 3\n",
    "b = 6\n",
    "c = -5\n",
    "\n",
    "tup1 = ((-b)+(b**2 - 4*a*c)**0.5)/(2*a) \n",
    "tup2 = ((-b)-(b**2 - 4*a*c)**0.5)/(2*a)\n",
    "\n",
    "tup = (round(tup1, 4), round(tup2, 4))\n",
    "\n",
    "print(tup)"
   ]
  },
  {
   "cell_type": "code",
   "execution_count": 12,
   "metadata": {},
   "outputs": [
    {
     "name": "stdout",
     "output_type": "stream",
     "text": [
      "<p>취업 준비생에게 SW 역량 향상 교육 및 다양한 취업지원 서비스를 제공하여 취업에 성공하도록 돕는 프로그램입니다.</p>\n",
      "취업 준비생에게 SW 역량 향상 교육 및 다양한 취업지원 서비스를 제공하여 취업에 성공하도록 돕는 프로그램입니다.\n"
     ]
    }
   ],
   "source": [
    "# 2번\n",
    "print('<p>취업 준비생에게 SW 역량 향상 교육 및 다양한 취업지원 서비스를 제공하여 취업에 성공하도록 돕는 프로그램입니다.</p>')\n",
    "a = '<p>취업 준비생에게 SW 역량 향상 교육 및 다양한 취업지원 서비스를 제공하여 취업에 성공하도록 돕는 프로그램입니다.</p>'\n",
    "print(a[3:66])"
   ]
  },
  {
   "cell_type": "code",
   "execution_count": 25,
   "metadata": {},
   "outputs": [
    {
     "name": "stdout",
     "output_type": "stream",
     "text": [
      "Pass\n"
     ]
    }
   ],
   "source": [
    "# 3번\n",
    "\n",
    "str_lst = input('문자열을 입력하세요. : ')\n",
    "str_lst = str_lst.split()\n",
    "\n",
    "if str_lst[0][-1].lower() == str_lst[1][0].lower():\n",
    "    if str_lst[1][-1].lower() == str_lst[2][0].lower():\n",
    "        print('Pass')\n",
    "    else: print('Fail')\n",
    "else:\n",
    "    print('Fail')"
   ]
  },
  {
   "cell_type": "code",
   "execution_count": 28,
   "metadata": {},
   "outputs": [
    {
     "name": "stdout",
     "output_type": "stream",
     "text": [
      "스테이크 가격 : 50000, VAT가 포함된 가격 : 57500\n"
     ]
    }
   ],
   "source": [
    "# 4번\n",
    "steak = int(input())\n",
    "\n",
    "vat = steak*.15\n",
    "\n",
    "print(f'스테이크 가격 : {steak}, VAT가 포함된 가격 : {int(steak+vat)}')"
   ]
  },
  {
   "cell_type": "code",
   "execution_count": 29,
   "metadata": {},
   "outputs": [
    {
     "name": "stdout",
     "output_type": "stream",
     "text": [
      "[('Python Homework', 3), ('Assay', 4), ('Vacation', 100), ('soccer contest', 10)]\n"
     ]
    }
   ],
   "source": [
    "# 5번\n",
    "\n",
    "todo = [(\"Python Homework\", 3), (\"Assay\", 4), (\"Vacation\", 100)]\n",
    "\n",
    "s = str(input())\n",
    "n = int(input())\n",
    "\n",
    "tup = (s, n)\n",
    "\n",
    "todo.append(tup)\n",
    "\n",
    "print(todo)"
   ]
  },
  {
   "cell_type": "code",
   "execution_count": null,
   "metadata": {},
   "outputs": [],
   "source": []
  }
 ],
 "metadata": {
  "kernelspec": {
   "display_name": "Python 3",
   "language": "python",
   "name": "python3"
  },
  "language_info": {
   "codemirror_mode": {
    "name": "ipython",
    "version": 3
   },
   "file_extension": ".py",
   "mimetype": "text/x-python",
   "name": "python",
   "nbconvert_exporter": "python",
   "pygments_lexer": "ipython3",
   "version": "3.9.13"
  },
  "orig_nbformat": 4,
  "vscode": {
   "interpreter": {
    "hash": "c4b9ebf4ca459396e2ad1150752490c26670c1a037c08cad955a4425787bec2e"
   }
  }
 },
 "nbformat": 4,
 "nbformat_minor": 2
}
