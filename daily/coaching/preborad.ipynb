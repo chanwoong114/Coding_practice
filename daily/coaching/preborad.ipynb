{
 "cells": [
  {
   "cell_type": "code",
   "execution_count": null,
   "metadata": {},
   "outputs": [],
   "source": []
  }
 ],
 "metadata": {
  "kernelspec": {
   "display_name": "venv",
   "language": "python",
   "name": "python3"
  },
  "language_info": {
   "name": "python",
   "version": "3.10.10"
  },
  "orig_nbformat": 4,
  "vscode": {
   "interpreter": {
    "hash": "118198d6dd7a5013118ec38d6b2d1b98c13264f953cf34a456cc1cb7fc72c8eb"
   }
  }
 },
 "nbformat": 4,
 "nbformat_minor": 2
}
