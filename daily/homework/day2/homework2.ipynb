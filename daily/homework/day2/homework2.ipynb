{
 "cells": [
  {
   "cell_type": "code",
   "execution_count": 7,
   "metadata": {},
   "outputs": [
    {
     "name": "stdout",
     "output_type": "stream",
     "text": [
      "['라떼마키야또', '아메리카노', '아이스라떼', '아이스아메리카노', '아이스카라멜마키야또', '에스프레소', '카라멜마키야또', '카푸치노', '핫초코']\n"
     ]
    }
   ],
   "source": [
    "orders = '아이스아메리카노,카라멜마키야또,에스프레소,아메리카노,아메리카노,아이스라떼,핫초코,아이스아메리카노,아메리카노,아이스카라멜마키야또,아이스라떼,라떼마키야또,카푸치노,라떼마키야또'\n",
    "\n",
    "orders = orders.split(',')\n",
    "\n",
    "set_order = []\n",
    "\n",
    "for i in orders:\n",
    "    if i not in set_order:\n",
    "        set_order.append(i)\n",
    "\n",
    "sort_orders = sorted(set_order)\n",
    "\n",
    "print(sort_orders)"
   ]
  },
  {
   "cell_type": "code",
   "execution_count": 2,
   "metadata": {},
   "outputs": [
    {
     "name": "stdout",
     "output_type": "stream",
     "text": [
      "총 주문횟수 : 14\n",
      "메뉴 : 아이스아메리카노\n",
      "주문횟수 : 2\n",
      "메뉴 : 카라멜마키야또\n",
      "주문횟수 : 1\n",
      "메뉴 : 에스프레소\n",
      "주문횟수 : 1\n",
      "메뉴 : 아메리카노\n",
      "주문횟수 : 3\n",
      "메뉴 : 아이스라떼\n",
      "주문횟수 : 2\n",
      "메뉴 : 핫초코\n",
      "주문횟수 : 1\n",
      "메뉴 : 아이스카라멜마키야또\n",
      "주문횟수 : 1\n",
      "메뉴 : 라떼마키야또\n",
      "주문횟수 : 2\n",
      "메뉴 : 카푸치노\n",
      "주문횟수 : 1\n"
     ]
    }
   ],
   "source": [
    "orders = '아이스아메리카노,카라멜마키야또,에스프레소,아메리카노,아메리카노,아이스라떼,핫초코,아이스아메리카노,아메리카노,아이스카라멜마키야또,아이스라떼,라떼마키야또,카푸치노,라떼마키야또'\n",
    "\n",
    "orders = orders.split(',')\n",
    "nums=0\n",
    "\n",
    "for i in orders:\n",
    "    nums += 1\n",
    "\n",
    "set_order = []\n",
    "\n",
    "for i in orders:\n",
    "    if i not in set_order:\n",
    "        set_order.append(i)\n",
    "\n",
    "print(f'총 주문횟수 : {nums}')\n",
    "\n",
    "for i in set_order:\n",
    "    print(f'메뉴 : {i}')\n",
    "    print(f'주문횟수 : {orders.count(i)}')\n"
   ]
  },
  {
   "cell_type": "code",
   "execution_count": null,
   "metadata": {},
   "outputs": [],
   "source": []
  }
 ],
 "metadata": {
  "kernelspec": {
   "display_name": "Python 3",
   "language": "python",
   "name": "python3"
  },
  "language_info": {
   "codemirror_mode": {
    "name": "ipython",
    "version": 3
   },
   "file_extension": ".py",
   "mimetype": "text/x-python",
   "name": "python",
   "nbconvert_exporter": "python",
   "pygments_lexer": "ipython3",
   "version": "3.9.13"
  },
  "orig_nbformat": 4,
  "vscode": {
   "interpreter": {
    "hash": "c4b9ebf4ca459396e2ad1150752490c26670c1a037c08cad955a4425787bec2e"
   }
  }
 },
 "nbformat": 4,
 "nbformat_minor": 2
}
