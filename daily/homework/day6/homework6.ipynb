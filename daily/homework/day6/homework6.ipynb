{
 "cells": [
  {
   "cell_type": "code",
   "execution_count": 24,
   "metadata": {},
   "outputs": [
    {
     "ename": "ValueError",
     "evalue": "invalid literal for int() with base 10: '5%'",
     "output_type": "error",
     "traceback": [
      "\u001b[1;31m---------------------------------------------------------------------------\u001b[0m",
      "\u001b[1;31mValueError\u001b[0m                                Traceback (most recent call last)",
      "Cell \u001b[1;32mIn[24], line 1\u001b[0m\n\u001b[1;32m----> 1\u001b[0m n, a \u001b[39m=\u001b[39m \u001b[39mmap\u001b[39m(\u001b[39mint\u001b[39m, \u001b[39minput\u001b[39m(\u001b[39m'\u001b[39m\u001b[39m1.소금물의 농도(\u001b[39m\u001b[39m%\u001b[39m\u001b[39m)와 소금물의 양(g)을 입력하십시오: \u001b[39m\u001b[39m'\u001b[39m)\u001b[39m.\u001b[39msplit())\n\u001b[0;32m      2\u001b[0m m, b \u001b[39m=\u001b[39m \u001b[39mmap\u001b[39m(\u001b[39mint\u001b[39m, \u001b[39minput\u001b[39m(\u001b[39m'\u001b[39m\u001b[39m2.소금물의 농도(\u001b[39m\u001b[39m%\u001b[39m\u001b[39m)와 소금물의 양(g)을 입력하십시오: \u001b[39m\u001b[39m'\u001b[39m)\u001b[39m.\u001b[39msplit())\n\u001b[0;32m      4\u001b[0m n \u001b[39m=\u001b[39m a \u001b[39m*\u001b[39m n \n",
      "\u001b[1;31mValueError\u001b[0m: invalid literal for int() with base 10: '5%'"
     ]
    }
   ],
   "source": [
    "\n",
    "n, a = map(int, input('1.소금물의 농도(%)와 소금물의 양(g)을 입력하십시오: ').split())\n",
    "m, b = map(int, input('2.소금물의 농도(%)와 소금물의 양(g)을 입력하십시오: ').split())\n",
    "\n",
    "n = a * n \n",
    "m = b * m\n",
    "\n",
    "salt = (n+m)/(a+b)\n",
    "\n",
    "print(f'{salt}% {a+b}g')"
   ]
  },
  {
   "cell_type": "code",
   "execution_count": 39,
   "metadata": {},
   "outputs": [
    {
     "name": "stdout",
     "output_type": "stream",
     "text": [
      "['1%', '400g']\n",
      "['8%', '300g']\n",
      "['Done']\n"
     ]
    }
   ],
   "source": [
    "total = []\n",
    "for i in range(5):\n",
    "    total.append(input('소금물의 농도(%)와 소금물의 양(g)을 입력하십시오: ').split())\n",
    "    print(total[i])\n",
    "    if total[i]==['Done']:\n",
    "        break"
   ]
  },
  {
   "cell_type": "code",
   "execution_count": 40,
   "metadata": {},
   "outputs": [
    {
     "data": {
      "text/plain": [
       "[[1, 400], [8, 300]]"
      ]
     },
     "execution_count": 40,
     "metadata": {},
     "output_type": "execute_result"
    }
   ],
   "source": [
    "if ['Done'] in total:\n",
    "    for i in range(len(total)-1):\n",
    "        for j in range(2):\n",
    "            total[i][j] = int(total[i][j][:-1])\n",
    "    total.pop(len(total)-1)\n",
    "else:\n",
    "    for i in range(len(total)):\n",
    "        for j in range(2):\n",
    "            total[i][j] = int(total[i][j][:-1])\n",
    "\n",
    "total"
   ]
  },
  {
   "cell_type": "code",
   "execution_count": 41,
   "metadata": {},
   "outputs": [
    {
     "name": "stdout",
     "output_type": "stream",
     "text": [
      "4.0% 700g\n"
     ]
    }
   ],
   "source": [
    "salt_water, water = 0, 0\n",
    "for i in range(len(total)):\n",
    "    salt_water += total[i][0] * total[i][1] \n",
    "    water += total[i][1]\n",
    "\n",
    "print(f'{round(salt_water/water, 2)}% {water}g')\n",
    "\n",
    "\n",
    "total"
   ]
  },
  {
   "cell_type": "code",
   "execution_count": null,
   "metadata": {},
   "outputs": [],
   "source": [
    "total = []\n",
    "for i in range(5):\n",
    "    total.append(input(f'{i}. 소금물의 농도(%)와 소금물의 양(g)을 입력하십시오: ').split())\n",
    "    print(total[i])\n",
    "    if total[i]==['Done']:\n",
    "        break\n",
    "\n",
    "if ['Done'] in total:\n",
    "    for i in range(len(total)-1):\n",
    "        for j in range(2):\n",
    "            total[i][j] = int(total[i][j][:-1])\n",
    "    total.pop(len(total)-1)\n",
    "else:\n",
    "    for i in range(len(total)):\n",
    "        for j in range(2):\n",
    "            total[i][j] = int(total[i][j][:-1])\n",
    "\n",
    "salt_water, water = 0, 0\n",
    "for i in range(len(total)):\n",
    "    salt_water += total[i][0] * total[i][1] \n",
    "    water += total[i][1]\n",
    "\n",
    "print(f'{round(salt_water/water, 2)}% {water}g')"
   ]
  },
  {
   "cell_type": "code",
   "execution_count": 1,
   "metadata": {},
   "outputs": [
    {
     "name": "stdout",
     "output_type": "stream",
     "text": [
      "[['eat', 'tea', 'ate'], ['tan', 'nat'], ['bat']]\n"
     ]
    }
   ],
   "source": [
    "words = list(map(str, input().split()))\n",
    "words_list = {}\n",
    "\n",
    "for i in words:\n",
    "    s = ''.join(sorted(i))\n",
    "    words_list[s] = words_list.get(s, []) + [i]\n",
    "\n",
    "print(list(words_list.values()))"
   ]
  },
  {
   "cell_type": "code",
   "execution_count": 9,
   "metadata": {},
   "outputs": [
    {
     "data": {
      "text/plain": [
       "[['eat', 'tea', 'ate'], ['tan', 'nat'], ['bat']]"
      ]
     },
     "execution_count": 9,
     "metadata": {},
     "output_type": "execute_result"
    }
   ],
   "source": [
    "list(words_list.values())\n",
    "    "
   ]
  },
  {
   "cell_type": "code",
   "execution_count": null,
   "metadata": {},
   "outputs": [],
   "source": []
  }
 ],
 "metadata": {
  "kernelspec": {
   "display_name": "Python 3",
   "language": "python",
   "name": "python3"
  },
  "language_info": {
   "codemirror_mode": {
    "name": "ipython",
    "version": 3
   },
   "file_extension": ".py",
   "mimetype": "text/x-python",
   "name": "python",
   "nbconvert_exporter": "python",
   "pygments_lexer": "ipython3",
   "version": "3.9.13"
  },
  "orig_nbformat": 4,
  "vscode": {
   "interpreter": {
    "hash": "c4b9ebf4ca459396e2ad1150752490c26670c1a037c08cad955a4425787bec2e"
   }
  }
 },
 "nbformat": 4,
 "nbformat_minor": 2
}
