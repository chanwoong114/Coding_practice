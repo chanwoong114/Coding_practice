{
 "cells": [
  {
   "cell_type": "code",
   "execution_count": 2,
   "metadata": {},
   "outputs": [
    {
     "name": "stdout",
     "output_type": "stream",
     "text": [
      "                                  2015\n",
      "\n",
      "      January                   February                   March\n",
      "Mo Tu We Th Fr Sa Su      Mo Tu We Th Fr Sa Su      Mo Tu We Th Fr Sa Su\n",
      "          1  2  3  4                         1                         1\n",
      " 5  6  7  8  9 10 11       2  3  4  5  6  7  8       2  3  4  5  6  7  8\n",
      "12 13 14 15 16 17 18       9 10 11 12 13 14 15       9 10 11 12 13 14 15\n",
      "19 20 21 22 23 24 25      16 17 18 19 20 21 22      16 17 18 19 20 21 22\n",
      "26 27 28 29 30 31         23 24 25 26 27 28         23 24 25 26 27 28 29\n",
      "                                                    30 31\n",
      "\n",
      "       April                      May                       June\n",
      "Mo Tu We Th Fr Sa Su      Mo Tu We Th Fr Sa Su      Mo Tu We Th Fr Sa Su\n",
      "       1  2  3  4  5                   1  2  3       1  2  3  4  5  6  7\n",
      " 6  7  8  9 10 11 12       4  5  6  7  8  9 10       8  9 10 11 12 13 14\n",
      "13 14 15 16 17 18 19      11 12 13 14 15 16 17      15 16 17 18 19 20 21\n",
      "20 21 22 23 24 25 26      18 19 20 21 22 23 24      22 23 24 25 26 27 28\n",
      "27 28 29 30               25 26 27 28 29 30 31      29 30\n",
      "\n",
      "        July                     August                  September\n",
      "Mo Tu We Th Fr Sa Su      Mo Tu We Th Fr Sa Su      Mo Tu We Th Fr Sa Su\n",
      "       1  2  3  4  5                      1  2          1  2  3  4  5  6\n",
      " 6  7  8  9 10 11 12       3  4  5  6  7  8  9       7  8  9 10 11 12 13\n",
      "13 14 15 16 17 18 19      10 11 12 13 14 15 16      14 15 16 17 18 19 20\n",
      "20 21 22 23 24 25 26      17 18 19 20 21 22 23      21 22 23 24 25 26 27\n",
      "27 28 29 30 31            24 25 26 27 28 29 30      28 29 30\n",
      "                          31\n",
      "\n",
      "      October                   November                  December\n",
      "Mo Tu We Th Fr Sa Su      Mo Tu We Th Fr Sa Su      Mo Tu We Th Fr Sa Su\n",
      "          1  2  3  4                         1          1  2  3  4  5  6\n",
      " 5  6  7  8  9 10 11       2  3  4  5  6  7  8       7  8  9 10 11 12 13\n",
      "12 13 14 15 16 17 18       9 10 11 12 13 14 15      14 15 16 17 18 19 20\n",
      "19 20 21 22 23 24 25      16 17 18 19 20 21 22      21 22 23 24 25 26 27\n",
      "26 27 28 29 30 31         23 24 25 26 27 28 29      28 29 30 31\n",
      "                          30\n",
      "\n",
      "{'년': 2015, '월': 8, '일': 15, '요일': '토요일'}\n"
     ]
    }
   ],
   "source": [
    "# 입력 예시\n",
    "# 2015\n",
    "# 8\n",
    "# 31\n",
    "\n",
    "# 출력 예시 \n",
    "#경고 월요일입니다.\n",
    "#{'년': 2015, '월': 8, '일': 31, '요일': '월요일'}\n",
    "import calendar\n",
    "\n",
    "\n",
    "def leap_year(n):\n",
    "    if n%4 == 0:\n",
    "        if n%100 == 0:\n",
    "            if n%400 == 0:\n",
    "                return True\n",
    "            else:\n",
    "                return False\n",
    "        else:\n",
    "            return True\n",
    "    else:\n",
    "        return False\n",
    "\n",
    "while True:\n",
    "    year = int(input())\n",
    "    if leap_year(year):\n",
    "        print('윤년입니다, 연도를 다시 입력해주세요.')\n",
    "        continue\n",
    "    else:\n",
    "        print(calendar.calendar(year))\n",
    "        break\n",
    "\n",
    "month = int(input())\n",
    "day = int(input())\n",
    "\n",
    "def cal(year, month, day):\n",
    "    day_dic = {0:'월요일', 1:'화요일', 2:'수요일', 3:'목요일', 4:'금요일', 5:'토요일', 6:'일요일'}\n",
    "\n",
    "    dayday = day_dic[calendar.weekday(year, month, day)]\n",
    "\n",
    "    if not calendar.weekday(year, month, day):\n",
    "        print('경고 월요일입니다.')\n",
    "\n",
    "    answer = {}\n",
    "    answer['년'] = year\n",
    "    answer['월'] = month\n",
    "    answer['일'] = day\n",
    "    answer['요일'] = dayday\n",
    "    print(answer)\n",
    "    return\n",
    "\n",
    "cal(year, month, day)"
   ]
  },
  {
   "cell_type": "code",
   "execution_count": 6,
   "metadata": {},
   "outputs": [
    {
     "name": "stdout",
     "output_type": "stream",
     "text": [
      "self_number가 아닙니다.\n"
     ]
    }
   ],
   "source": [
    "def fn_d(n):\n",
    "    L = []\n",
    "\n",
    "    for i in str(n):\n",
    "        L.append(int(i))\n",
    "\n",
    "    return n+sum(L)\n",
    "\n",
    "def is_selfnumber(n):\n",
    "    non_self =[]\n",
    "    for i in range(n):\n",
    "        non_self.append(fn_d(i))\n",
    "\n",
    "    if n in non_self:\n",
    "        print('self_number가 아닙니다.')\n",
    "        return\n",
    "    else:\n",
    "        print('self_number입니다.')\n",
    "        return\n",
    "    \n",
    "N = int(input())\n",
    "\n",
    "is_selfnumber(N)"
   ]
  }
 ],
 "metadata": {
  "kernelspec": {
   "display_name": "Python 3",
   "language": "python",
   "name": "python3"
  },
  "language_info": {
   "codemirror_mode": {
    "name": "ipython",
    "version": 3
   },
   "file_extension": ".py",
   "mimetype": "text/x-python",
   "name": "python",
   "nbconvert_exporter": "python",
   "pygments_lexer": "ipython3",
   "version": "3.9.13"
  },
  "orig_nbformat": 4,
  "vscode": {
   "interpreter": {
    "hash": "c4b9ebf4ca459396e2ad1150752490c26670c1a037c08cad955a4425787bec2e"
   }
  }
 },
 "nbformat": 4,
 "nbformat_minor": 2
}
