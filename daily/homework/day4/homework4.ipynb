{
 "cells": [
  {
   "cell_type": "code",
   "execution_count": 17,
   "metadata": {},
   "outputs": [
    {
     "name": "stdout",
     "output_type": "stream",
     "text": [
      "5번째 사람이 틀렸습니다.(이전에 등장했던 단어)\n"
     ]
    }
   ],
   "source": [
    "words = [\"round\", \"dream\", \"magnet\" , \"tweet\" , \"tweet\", \"trick\", \"kiwid\"]\n",
    "\n",
    "lenword = 0\n",
    "success = []\n",
    "\n",
    "for i in words:\n",
    "    lenword += 1    \n",
    "\n",
    "if words[0]=='done':\n",
    "    print('끝말잇기를 끝냅니다.')\n",
    "else:\n",
    "    for i in range(1, lenword):\n",
    "        if words[i] == 'done':\n",
    "            print('끝말잇기를 끝냅니다.')\n",
    "            break\n",
    "\n",
    "        if words[i][0] == words[i-1][-1]:\n",
    "            if words[i] not in success:\n",
    "                success.append(words[i])\n",
    "            else:\n",
    "                print(f'{i+1}번째 사람이 틀렸습니다.(이전에 등장했던 단어)')\n",
    "                break\n",
    "        else:\n",
    "            print(f'{i+1}번째 사람이 틀렸습니다.(끝말잇기가 틀림)')\n",
    "            break\n",
    "    else:\n",
    "        print('탈락한 사람이 없습니다.')"
   ]
  },
  {
   "cell_type": "code",
   "execution_count": 35,
   "metadata": {},
   "outputs": [
    {
     "name": "stdout",
     "output_type": "stream",
     "text": [
      "{'aet': ['eat', 'tea', 'ate'], 'ant': ['tan', 'nat'], 'abt': ['bat']}\n"
     ]
    }
   ],
   "source": [
    "words = ['eat', 'tea', 'tan', 'ate', 'nat', 'bat']\n",
    "words_list = {}\n",
    "\n",
    "for i in words:\n",
    "    s = ''.join(sorted(i))\n",
    "    words_list[s] = words_list.get(s, []) + [i]\n",
    "\n",
    "print(words_list)"
   ]
  },
  {
   "cell_type": "code",
   "execution_count": 30,
   "metadata": {},
   "outputs": [
    {
     "name": "stdout",
     "output_type": "stream",
     "text": [
      "a e t\n"
     ]
    }
   ],
   "source": [
    "print(*words_list[1])"
   ]
  },
  {
   "cell_type": "code",
   "execution_count": 47,
   "metadata": {},
   "outputs": [
    {
     "data": {
      "text/plain": [
       "False"
      ]
     },
     "execution_count": 47,
     "metadata": {},
     "output_type": "execute_result"
    }
   ],
   "source": []
  },
  {
   "cell_type": "code",
   "execution_count": null,
   "metadata": {},
   "outputs": [],
   "source": []
  }
 ],
 "metadata": {
  "kernelspec": {
   "display_name": "Python 3",
   "language": "python",
   "name": "python3"
  },
  "language_info": {
   "codemirror_mode": {
    "name": "ipython",
    "version": 3
   },
   "file_extension": ".py",
   "mimetype": "text/x-python",
   "name": "python",
   "nbconvert_exporter": "python",
   "pygments_lexer": "ipython3",
   "version": "3.9.13 (tags/v3.9.13:6de2ca5, May 17 2022, 16:36:42) [MSC v.1929 64 bit (AMD64)]"
  },
  "orig_nbformat": 4,
  "vscode": {
   "interpreter": {
    "hash": "c4b9ebf4ca459396e2ad1150752490c26670c1a037c08cad955a4425787bec2e"
   }
  }
 },
 "nbformat": 4,
 "nbformat_minor": 2
}
