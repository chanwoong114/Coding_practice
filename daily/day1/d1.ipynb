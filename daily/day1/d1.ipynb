{
 "cells": [
  {
   "cell_type": "code",
   "execution_count": 2,
   "metadata": {},
   "outputs": [
    {
     "name": "stdout",
     "output_type": "stream",
     "text": [
      "c:\\python_project\\test\n"
     ]
    }
   ],
   "source": [
    "print(\"c:\\python_project\\\\test\")"
   ]
  },
  {
   "cell_type": "code",
   "execution_count": 3,
   "metadata": {},
   "outputs": [
    {
     "name": "stdout",
     "output_type": "stream",
     "text": [
      "True\n",
      "c:\\python_project\\test\n"
     ]
    }
   ],
   "source": [
    "# 1번\n",
    "\n",
    "a = \"c:\\\\python_project\\\\test\"\n",
    "b = \"c:\\python_project\\\\test\"\n",
    "\n",
    "print(a==b)\n",
    "print(\"c:\\\\python_project\\\\test\")"
   ]
  },
  {
   "cell_type": "code",
   "execution_count": 2,
   "metadata": {},
   "outputs": [
    {
     "name": "stdout",
     "output_type": "stream",
     "text": [
      "6\n"
     ]
    }
   ],
   "source": [
    "# 2번\n",
    "\n",
    "a = int(input('게시글의 총 갯수를 입력하세요 : '))\n",
    "b = int(input('한 페이지에 필요한 게시글 수를 입력하세요 : '))\n",
    "print((a+1)//b)"
   ]
  },
  {
   "cell_type": "code",
   "execution_count": 6,
   "metadata": {},
   "outputs": [
    {
     "name": "stdout",
     "output_type": "stream",
     "text": [
      "son\n",
      "\n",
      "\n",
      "park\n"
     ]
    }
   ],
   "source": [
    "# 3번\n",
    "\n",
    "person1 = input(\"첫 번째 사람의 이름을 입력하시오: \")\n",
    "person2 = input(\"두 번째 사람의 이름을 입력하시오: \")\n",
    "\n",
    "print(person1, end='\\n\\n')\n",
    "print(person2)"
   ]
  },
  {
   "cell_type": "code",
   "execution_count": 10,
   "metadata": {},
   "outputs": [
    {
     "name": "stdout",
     "output_type": "stream",
     "text": [
      "284787\n"
     ]
    }
   ],
   "source": [
    "# 4번\n",
    "\n",
    "num_list = []\n",
    "\n",
    "for i in range(1, 1000):\n",
    "    if i%2==0 or i%7==0:\n",
    "        num_list.append(i)\n",
    "\n",
    "sum_list = 0\n",
    "\n",
    "for i in num_list:\n",
    "    sum_list += i\n",
    "\n",
    "print(sum_list)"
   ]
  },
  {
   "cell_type": "code",
   "execution_count": 11,
   "metadata": {},
   "outputs": [
    {
     "name": "stdout",
     "output_type": "stream",
     "text": [
      "****\n",
      "****\n",
      "****\n",
      "****\n",
      "****\n"
     ]
    }
   ],
   "source": [
    "# 5번\n",
    "\n",
    "m = 5\n",
    "n = 4\n",
    "\n",
    "for i in range(m):\n",
    "    for j in range(n):\n",
    "        print('*', end='')\n",
    "    print('')\n"
   ]
  },
  {
   "cell_type": "code",
   "execution_count": 27,
   "metadata": {},
   "outputs": [
    {
     "name": "stdout",
     "output_type": "stream",
     "text": [
      "['*', '*', '*', '*']\n",
      "['*', '*', '*', '*']\n",
      "['*', '*', '*', '*']\n",
      "['*', '*', '*', '*']\n",
      "['*', '*', '*', '*']\n",
      "****\n",
      "****\n",
      "****\n",
      "****\n",
      "****\n",
      "\n"
     ]
    }
   ],
   "source": [
    "# 5번 반복문 없이\n",
    "\n",
    "m = 5\n",
    "n = 4\n",
    "\n",
    "\n",
    "answer = ('*' * n + '\\n')*m\n",
    "\n",
    "print(answer)"
   ]
  },
  {
   "cell_type": "code",
   "execution_count": null,
   "metadata": {},
   "outputs": [],
   "source": []
  }
 ],
 "metadata": {
  "kernelspec": {
   "display_name": "Python 3",
   "language": "python",
   "name": "python3"
  },
  "language_info": {
   "codemirror_mode": {
    "name": "ipython",
    "version": 3
   },
   "file_extension": ".py",
   "mimetype": "text/x-python",
   "name": "python",
   "nbconvert_exporter": "python",
   "pygments_lexer": "ipython3",
   "version": "3.9.13"
  },
  "orig_nbformat": 4,
  "vscode": {
   "interpreter": {
    "hash": "c4b9ebf4ca459396e2ad1150752490c26670c1a037c08cad955a4425787bec2e"
   }
  }
 },
 "nbformat": 4,
 "nbformat_minor": 2
}
