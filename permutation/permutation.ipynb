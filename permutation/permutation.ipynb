{
 "cells": [
  {
   "cell_type": "code",
   "execution_count": null,
   "metadata": {},
   "outputs": [],
   "source": [
    "a = [1,2,3,4,5,6,7,8,9,10]\n",
    "map(int, input().split())"
   ]
  },
  {
   "cell_type": "code",
   "execution_count": 9,
   "metadata": {},
   "outputs": [],
   "source": [
    "def permutation(arr, r):\n",
    "    # 1.\n",
    "    arr = sorted(arr)\n",
    "    used = [0 for _ in range(len(arr))]\n",
    "\n",
    "    def generate(chosen, used):\n",
    "        # 2.\n",
    "        if len(chosen) == r:\n",
    "            print(*chosen)\n",
    "            return\n",
    "\t\n",
    "        for i in range(len(arr)):\n",
    "\t    # 3.\n",
    "            if not used[i] and (i == 0 or arr[i-1] != arr[i] or used[i-1]):\n",
    "                chosen.append(arr[i])\n",
    "                used[i] = 1\n",
    "                generate(chosen, used)\n",
    "                used[i] = 0\n",
    "                chosen.pop()\n",
    "    generate([], used)"
   ]
  },
  {
   "cell_type": "code",
   "execution_count": 65,
   "metadata": {},
   "outputs": [
    {
     "name": "stdout",
     "output_type": "stream",
     "text": [
      "1 2\n",
      "1 3\n",
      "1 4\n",
      "2 3\n",
      "2 4\n",
      "3 4\n"
     ]
    }
   ],
   "source": [
    "def permutation(lst, r):\n",
    "    used = [0]*len(lst)\n",
    "\n",
    "    def generate(choice, used):\n",
    "        if len(choice) == r:\n",
    "            print(*choice)\n",
    "            return\n",
    "        \n",
    "        for i in range(len(lst)):\n",
    "            if not used[i] and (i==0 or lst[i] != lst[i-1] or used[i-1]):\n",
    "                if len(choice) >= 1 and max(choice) > lst[i]:\n",
    "                    continue                    \n",
    "                choice.append(lst[i])\n",
    "                used[i] = 1\n",
    "                generate(choice, used)\n",
    "                used[i] = 0\n",
    "                choice.pop()\n",
    "    generate([], used)\n",
    "\n",
    "N, M = map(int, input().split())\n",
    "L = [i for i in range(1, N+1)]\n",
    "\n",
    "permutation(L, M)"
   ]
  },
  {
   "cell_type": "code",
   "execution_count": 66,
   "metadata": {},
   "outputs": [
    {
     "name": "stdout",
     "output_type": "stream",
     "text": [
      "[[1, 2], [1, 3], [1, 4], [1, 5], [2, 3], [2, 4], [2, 5], [3, 4], [3, 5], [4, 5]]\n"
     ]
    }
   ],
   "source": [
    "nums = [1, 2, 3, 4, 5]\n",
    "answer_list = []\n",
    "\n",
    "def nCr(n, ans, r):\n",
    "    if n == len(nums):\n",
    "        if len(ans) == r:\n",
    "            temp = [i for i in ans]\n",
    "            answer_list.append(temp)\n",
    "        return\n",
    "    ans.append(nums[n])\n",
    "    nCr(n + 1, ans, r)\n",
    "    ans.pop()\n",
    "    nCr(n + 1, ans, r)\n",
    "\n",
    "nCr(0, [], 2)\n",
    "print(answer_list)"
   ]
  },
  {
   "cell_type": "code",
   "execution_count": 58,
   "metadata": {},
   "outputs": [
    {
     "data": {
      "text/plain": [
       "[1, 2, 3, 4]"
      ]
     },
     "execution_count": 58,
     "metadata": {},
     "output_type": "execute_result"
    }
   ],
   "source": [
    "L"
   ]
  },
  {
   "cell_type": "code",
   "execution_count": 11,
   "metadata": {},
   "outputs": [
    {
     "data": {
      "text/plain": [
       "True"
      ]
     },
     "execution_count": 11,
     "metadata": {},
     "output_type": "execute_result"
    }
   ],
   "source": [
    "[0]*3 == [0 for i in range(3)]"
   ]
  },
  {
   "cell_type": "code",
   "execution_count": 2,
   "metadata": {},
   "outputs": [
    {
     "name": "stdout",
     "output_type": "stream",
     "text": [
      "[1, 2, 3, 6, 5]\n"
     ]
    }
   ],
   "source": [
    "chosen = [1,2,3,6,5]\n",
    "r = 5\n",
    "used = [0, 0, 0, 0, 1]\n",
    "\n",
    "def generate(chosen, used, r):\n",
    "        # 2.\n",
    "        if len(chosen) == r:\n",
    "            print(chosen)\n",
    "            return\n",
    "\n",
    "generate(chosen, used, r)"
   ]
  },
  {
   "cell_type": "code",
   "execution_count": null,
   "metadata": {},
   "outputs": [],
   "source": [
    "def permute(arr):\n",
    "    result = [arr[:]]\n",
    "    "
   ]
  },
  {
   "cell_type": "code",
   "execution_count": 7,
   "metadata": {},
   "outputs": [
    {
     "name": "stdout",
     "output_type": "stream",
     "text": [
      "[1, 2, 3, 4]\n"
     ]
    }
   ],
   "source": [
    "arr = [1,2,3,4]\n",
    "print(arr[:])"
   ]
  },
  {
   "cell_type": "code",
   "execution_count": 10,
   "metadata": {},
   "outputs": [
    {
     "name": "stdout",
     "output_type": "stream",
     "text": [
      "1 2\n",
      "1 3\n",
      "1 4\n",
      "2 1\n",
      "2 3\n",
      "2 4\n",
      "3 1\n",
      "3 2\n",
      "3 4\n",
      "4 1\n",
      "4 2\n",
      "4 3\n"
     ]
    }
   ],
   "source": [
    "b = permutation(arr, 2)"
   ]
  },
  {
   "cell_type": "code",
   "execution_count": null,
   "metadata": {},
   "outputs": [],
   "source": [
    "# * : 전개 연산자"
   ]
  },
  {
   "cell_type": "code",
   "execution_count": null,
   "metadata": {},
   "outputs": [],
   "source": [
    "from itertools import permutations\n",
    "\n",
    "result = permutations(costom, 5)"
   ]
  },
  {
   "cell_type": "code",
   "execution_count": null,
   "metadata": {},
   "outputs": [],
   "source": [
    "    from itertools import permutations\n",
    "\n",
    "    num = int(input())\n",
    "    c = []\n",
    "    e = 0\n",
    "    costomer = list(map(int, input().split()))\n",
    "    costom = []\n",
    "    for i in range(0, len(costomer), 2):\n",
    "        costom.append([costomer[i], costomer[i+1]])\n",
    "\n",
    "    start = costom[0]\n",
    "    last = costom[1]\n",
    "\n",
    "    del costom[0]\n",
    "    del costom[0]\n",
    "\n",
    "    result = list(permutations(costom, num))\n",
    "    d = []\n",
    "    for m in range(len(result)):\n",
    "        c = 0\n",
    "        c = sum([abs(j-k) for j,k in zip(start, result[m][0])])\n",
    "        for i in range(num-1):\n",
    "            c += sum([abs(j-k) for j,k in zip(result[m][i], result[m][i+1])])\n",
    "            if e:\n",
    "                if c>=mm:\n",
    "                    continue\n",
    "            \n",
    "        if e:\n",
    "            if c>=mm:\n",
    "                continue\n",
    "\n",
    "        c += sum([abs(j-k) for j,k in zip(result[m][num-1], last)])    \n",
    "\n",
    "        if e:\n",
    "            if mm>c:\n",
    "                mm = c\n",
    "        else:\n",
    "            mm = c\n",
    "        \n",
    "        e+=1\n",
    "\n",
    "    print(mm)    "
   ]
  },
  {
   "cell_type": "code",
   "execution_count": null,
   "metadata": {},
   "outputs": [],
   "source": [
    "print(start)"
   ]
  },
  {
   "cell_type": "code",
   "execution_count": null,
   "metadata": {},
   "outputs": [],
   "source": [
    "a = [1,2]\n",
    "b = [3,4]\n",
    "c = [abs(i-j) for i,j in zip(a,b)]\n",
    "print(c)"
   ]
  },
  {
   "cell_type": "code",
   "execution_count": null,
   "metadata": {},
   "outputs": [],
   "source": [
    "def comb(black_axis, answer, idx):\n",
    "    if len(answer) == 3:\n",
    "        possivle_wall_que.append(answer[:])\n",
    "        return\n",
    "    \n",
    "    for i in range(idx, len(blank_axis)):\n",
    "        answer.append(blank_axis[i])\n",
    "        comb(blank_axis, answer, i+1)\n",
    "        answer.pop()\n",
    "\n"
   ]
  },
  {
   "cell_type": "code",
   "execution_count": null,
   "metadata": {},
   "outputs": [],
   "source": [
    "print([abs(j-k) for j,k in zip(start, result[0][0])])"
   ]
  },
  {
   "cell_type": "code",
   "execution_count": null,
   "metadata": {},
   "outputs": [],
   "source": [
    "if 0:\n",
    "    print(2)\n",
    "else:\n",
    "    print(1)"
   ]
  },
  {
   "cell_type": "code",
   "execution_count": null,
   "metadata": {},
   "outputs": [],
   "source": [
    "a=[1,2,3]\n",
    "print(*a)"
   ]
  },
  {
   "cell_type": "code",
   "execution_count": null,
   "metadata": {},
   "outputs": [],
   "source": [
    "a.pop()"
   ]
  },
  {
   "cell_type": "code",
   "execution_count": 2,
   "metadata": {},
   "outputs": [
    {
     "data": {
      "text/plain": [
       "[0]"
      ]
     },
     "execution_count": 2,
     "metadata": {},
     "output_type": "execute_result"
    }
   ],
   "source": [
    "[0*8]"
   ]
  },
  {
   "cell_type": "code",
   "execution_count": 50,
   "metadata": {},
   "outputs": [
    {
     "data": {
      "text/plain": [
       "'-1'"
      ]
     },
     "execution_count": 50,
     "metadata": {},
     "output_type": "execute_result"
    }
   ],
   "source": [
    "\n",
    "X = '100'\n",
    "Y = '2345'\n",
    "def solution(X,Y):\n",
    "    dic = {}\n",
    "    word = ''\n",
    "    \n",
    "    for i in range(10):\n",
    "        a = min(X.count('i'), Y.count('i'))\n",
    "        dic[i] = a\n",
    "\n",
    "    for i in range(9, -1, -1):\n",
    "        if dic.get(i, 0):\n",
    "            word += (str(i)*dic[i])\n",
    "\n",
    "    if dic == {}:\n",
    "        return '-1'\n",
    "            \n",
    "    if not int(word):\n",
    "        return '0'\n",
    "\n",
    "    return word\n",
    "\n",
    "solution(X, Y)"
   ]
  },
  {
   "cell_type": "code",
   "execution_count": 43,
   "metadata": {},
   "outputs": [
    {
     "data": {
      "text/plain": [
       "''"
      ]
     },
     "execution_count": 43,
     "metadata": {},
     "output_type": "execute_result"
    }
   ],
   "source": []
  },
  {
   "cell_type": "code",
   "execution_count": 44,
   "metadata": {},
   "outputs": [
    {
     "name": "stdout",
     "output_type": "stream",
     "text": [
      "9\n",
      "8\n",
      "7\n",
      "6\n",
      "5\n",
      "4\n",
      "3\n",
      "2\n",
      "1\n",
      "0\n"
     ]
    }
   ],
   "source": [
    "for i in range(9, -1, -1):\n",
    "    print(i)"
   ]
  },
  {
   "cell_type": "code",
   "execution_count": 36,
   "metadata": {},
   "outputs": [
    {
     "data": {
      "text/plain": [
       "'11'"
      ]
     },
     "execution_count": 36,
     "metadata": {},
     "output_type": "execute_result"
    }
   ],
   "source": [
    "str(1)*dic[str(1)]*2"
   ]
  },
  {
   "cell_type": "code",
   "execution_count": null,
   "metadata": {},
   "outputs": [],
   "source": []
  },
  {
   "cell_type": "code",
   "execution_count": 27,
   "metadata": {},
   "outputs": [
    {
     "data": {
      "text/plain": [
       "''"
      ]
     },
     "execution_count": 27,
     "metadata": {},
     "output_type": "execute_result"
    }
   ],
   "source": [
    "X = '100'\n",
    "Y = '23145'\n",
    "\n",
    "solution(X,Y)"
   ]
  },
  {
   "cell_type": "code",
   "execution_count": 39,
   "metadata": {},
   "outputs": [
    {
     "data": {
      "text/plain": [
       "0"
      ]
     },
     "execution_count": 39,
     "metadata": {},
     "output_type": "execute_result"
    }
   ],
   "source": [
    "dic.get(1, 0)"
   ]
  },
  {
   "attachments": {},
   "cell_type": "markdown",
   "metadata": {},
   "source": [
    "https://velog.io/@yeseolee/python%EC%9C%BC%EB%A1%9C-%EC%88%9C%EC%97%B4%EA%B3%BC-%EC%A1%B0%ED%95%A9-%EC%A7%81%EC%A0%91-%EA%B5%AC%ED%98%84%ED%95%98%EA%B8%B0#-%EC%88%9C%EC%97%B4%EA%B3%BC-%EC%A1%B0%ED%95%A9%EC%9D%98-%EC%A0%95%EC%9D%98"
   ]
  },
  {
   "cell_type": "markdown",
   "metadata": {},
   "source": []
  }
 ],
 "metadata": {
  "kernelspec": {
   "display_name": "Python 3",
   "language": "python",
   "name": "python3"
  },
  "language_info": {
   "codemirror_mode": {
    "name": "ipython",
    "version": 3
   },
   "file_extension": ".py",
   "mimetype": "text/x-python",
   "name": "python",
   "nbconvert_exporter": "python",
   "pygments_lexer": "ipython3",
   "version": "3.9.13 (tags/v3.9.13:6de2ca5, May 17 2022, 16:36:42) [MSC v.1929 64 bit (AMD64)]"
  },
  "orig_nbformat": 4,
  "vscode": {
   "interpreter": {
    "hash": "c4b9ebf4ca459396e2ad1150752490c26670c1a037c08cad955a4425787bec2e"
   }
  }
 },
 "nbformat": 4,
 "nbformat_minor": 2
}
