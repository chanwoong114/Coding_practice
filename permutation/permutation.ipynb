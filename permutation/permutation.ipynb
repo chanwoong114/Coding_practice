{
 "cells": [
  {
   "cell_type": "code",
   "execution_count": null,
   "metadata": {},
   "outputs": [],
   "source": [
    "a = [1,2,3,4,5,6,7,8,9,10]\n",
    "map(int, input().split())"
   ]
  },
  {
   "cell_type": "code",
   "execution_count": null,
   "metadata": {},
   "outputs": [],
   "source": [
    "def permutation(arr, r):\n",
    "    # 1.\n",
    "    arr = sorted(arr)\n",
    "    used = [0 for _ in range(len(arr))]\n",
    "\n",
    "    def generate(chosen, used):\n",
    "        # 2.\n",
    "        if len(chosen) == r:\n",
    "            print(chosen)\n",
    "            return\n",
    "\t\n",
    "        for i in range(len(arr)):\n",
    "\t    # 3.\n",
    "            if not used[i] and (i == 0 or arr[i-1] != arr[i] or used[i-1]):\n",
    "                chosen.append(arr[i])\n",
    "                used[i] = 1\n",
    "                generate(chosen, used)\n",
    "                used[i] = 0\n",
    "                chosen.pop()\n",
    "    generate([], used)"
   ]
  },
  {
   "cell_type": "code",
   "execution_count": null,
   "metadata": {},
   "outputs": [],
   "source": [
    "chosen = [1,2,3,6,5]\n",
    "r = 5\n",
    "used = [0, 0, 0, 0, 1]\n",
    "\n",
    "def generate(chosen, used, r):\n",
    "        # 2.\n",
    "        if len(chosen) == r:\n",
    "            print(chosen)\n",
    "            return\n",
    "\n",
    "generate(chosen, used, r)"
   ]
  },
  {
   "cell_type": "code",
   "execution_count": null,
   "metadata": {},
   "outputs": [],
   "source": [
    "def permute(arr):\n",
    "    result = [arr[:]]\n",
    "    "
   ]
  },
  {
   "cell_type": "code",
   "execution_count": null,
   "metadata": {},
   "outputs": [],
   "source": [
    "arr = [1,2,3]\n",
    "print(arr[:])"
   ]
  },
  {
   "cell_type": "code",
   "execution_count": null,
   "metadata": {},
   "outputs": [],
   "source": [
    "b = permutation(a, 10)"
   ]
  },
  {
   "cell_type": "code",
   "execution_count": null,
   "metadata": {},
   "outputs": [],
   "source": [
    "# * : 전개 연산자"
   ]
  },
  {
   "cell_type": "code",
   "execution_count": null,
   "metadata": {},
   "outputs": [],
   "source": [
    "from itertools import permutations\n",
    "\n",
    "result = permutations(costom, 5)"
   ]
  },
  {
   "cell_type": "code",
   "execution_count": null,
   "metadata": {},
   "outputs": [],
   "source": [
    "    from itertools import permutations\n",
    "\n",
    "    num = int(input())\n",
    "    c = []\n",
    "    e = 0\n",
    "    costomer = list(map(int, input().split()))\n",
    "    costom = []\n",
    "    for i in range(0, len(costomer), 2):\n",
    "        costom.append([costomer[i], costomer[i+1]])\n",
    "\n",
    "    start = costom[0]\n",
    "    last = costom[1]\n",
    "\n",
    "    del costom[0]\n",
    "    del costom[0]\n",
    "\n",
    "    result = list(permutations(costom, num))\n",
    "    d = []\n",
    "    for m in range(len(result)):\n",
    "        c = 0\n",
    "        c = sum([abs(j-k) for j,k in zip(start, result[m][0])])\n",
    "        for i in range(num-1):\n",
    "            c += sum([abs(j-k) for j,k in zip(result[m][i], result[m][i+1])])\n",
    "            if e:\n",
    "                if c>=mm:\n",
    "                    continue\n",
    "            \n",
    "        if e:\n",
    "            if c>=mm:\n",
    "                continue\n",
    "\n",
    "        c += sum([abs(j-k) for j,k in zip(result[m][num-1], last)])    \n",
    "\n",
    "        if e:\n",
    "            if mm>c:\n",
    "                mm = c\n",
    "        else:\n",
    "            mm = c\n",
    "        \n",
    "        e+=1\n",
    "\n",
    "    print(mm)    "
   ]
  },
  {
   "cell_type": "code",
   "execution_count": null,
   "metadata": {},
   "outputs": [],
   "source": [
    "print(start)"
   ]
  },
  {
   "cell_type": "code",
   "execution_count": null,
   "metadata": {},
   "outputs": [],
   "source": [
    "a = [1,2]\n",
    "b = [3,4]\n",
    "c = [abs(i-j) for i,j in zip(a,b)]\n",
    "print(c)"
   ]
  },
  {
   "cell_type": "code",
   "execution_count": null,
   "metadata": {},
   "outputs": [],
   "source": [
    "def comb(black_axis, answer, idx):\n",
    "    if len(answer) == 3:\n",
    "        possivle_wall_que.append(answer[:])\n",
    "        return\n",
    "    \n",
    "    for i in range(idx, len(blank_axis)):\n",
    "        answer.append(blank_axis[i])\n",
    "        comb(blank_axis, answer, i+1)\n",
    "        answer.pop()\n",
    "\n"
   ]
  },
  {
   "cell_type": "code",
   "execution_count": null,
   "metadata": {},
   "outputs": [],
   "source": [
    "print([abs(j-k) for j,k in zip(start, result[0][0])])"
   ]
  },
  {
   "cell_type": "code",
   "execution_count": null,
   "metadata": {},
   "outputs": [],
   "source": [
    "if 0:\n",
    "    print(2)\n",
    "else:\n",
    "    print(1)"
   ]
  },
  {
   "cell_type": "code",
   "execution_count": null,
   "metadata": {},
   "outputs": [],
   "source": [
    "a=[1,2,3]\n",
    "print(*a)"
   ]
  },
  {
   "cell_type": "code",
   "execution_count": null,
   "metadata": {},
   "outputs": [],
   "source": [
    "a.pop()"
   ]
  },
  {
   "cell_type": "code",
   "execution_count": 2,
   "metadata": {},
   "outputs": [
    {
     "data": {
      "text/plain": [
       "[0]"
      ]
     },
     "execution_count": 2,
     "metadata": {},
     "output_type": "execute_result"
    }
   ],
   "source": [
    "[0*8]"
   ]
  },
  {
   "cell_type": "code",
   "execution_count": null,
   "metadata": {},
   "outputs": [],
   "source": []
  },
  {
   "attachments": {},
   "cell_type": "markdown",
   "metadata": {},
   "source": [
    "https://velog.io/@yeseolee/python%EC%9C%BC%EB%A1%9C-%EC%88%9C%EC%97%B4%EA%B3%BC-%EC%A1%B0%ED%95%A9-%EC%A7%81%EC%A0%91-%EA%B5%AC%ED%98%84%ED%95%98%EA%B8%B0#-%EC%88%9C%EC%97%B4%EA%B3%BC-%EC%A1%B0%ED%95%A9%EC%9D%98-%EC%A0%95%EC%9D%98"
   ]
  },
  {
   "cell_type": "markdown",
   "metadata": {},
   "source": []
  }
 ],
 "metadata": {
  "kernelspec": {
   "display_name": "Python 3",
   "language": "python",
   "name": "python3"
  },
  "language_info": {
   "codemirror_mode": {
    "name": "ipython",
    "version": 3
   },
   "file_extension": ".py",
   "mimetype": "text/x-python",
   "name": "python",
   "nbconvert_exporter": "python",
   "pygments_lexer": "ipython3",
   "version": "3.9.13 (tags/v3.9.13:6de2ca5, May 17 2022, 16:36:42) [MSC v.1929 64 bit (AMD64)]"
  },
  "orig_nbformat": 4,
  "vscode": {
   "interpreter": {
    "hash": "c4b9ebf4ca459396e2ad1150752490c26670c1a037c08cad955a4425787bec2e"
   }
  }
 },
 "nbformat": 4,
 "nbformat_minor": 2
}
