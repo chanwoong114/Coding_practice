{
 "cells": [
  {
   "cell_type": "code",
   "execution_count": 1,
   "metadata": {},
   "outputs": [],
   "source": [
    "arr  = list(map(int, input().split()))\n",
    "\n",
    "count = [0] * (max(arr)+1)\n",
    "\n",
    "for num in arr:\n",
    "    count[num] += 1\n",
    "\n",
    "# count = [0, 1, 1, 2, 2, 1, 0, 1, 0, 1]\n",
    "\n",
    "for i in range(1, len(count)):\n",
    "    count[i] += count[i-1]\n",
    "\n",
    "# count = [0, 1, 2, 4, 6, 7, 7, 8, 8, 9]\n",
    "\n",
    "result = [0] * (len(arr))\n"
   ]
  },
  {
   "cell_type": "code",
   "execution_count": null,
   "metadata": {},
   "outputs": [],
   "source": []
  }
 ],
 "metadata": {
  "kernelspec": {
   "display_name": "Python 3",
   "language": "python",
   "name": "python3"
  },
  "language_info": {
   "codemirror_mode": {
    "name": "ipython",
    "version": 3
   },
   "file_extension": ".py",
   "mimetype": "text/x-python",
   "name": "python",
   "nbconvert_exporter": "python",
   "pygments_lexer": "ipython3",
   "version": "3.9.13"
  },
  "orig_nbformat": 4,
  "vscode": {
   "interpreter": {
    "hash": "c4b9ebf4ca459396e2ad1150752490c26670c1a037c08cad955a4425787bec2e"
   }
  }
 },
 "nbformat": 4,
 "nbformat_minor": 2
}
