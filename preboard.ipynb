{
 "cells": [
  {
   "cell_type": "code",
   "execution_count": 4,
   "metadata": {},
   "outputs": [],
   "source": [
    "sample_list = [1,2,3,4,5]"
   ]
  },
  {
   "cell_type": "code",
   "execution_count": 5,
   "metadata": {},
   "outputs": [],
   "source": [
    "x = sample_list.pop(3)"
   ]
  },
  {
   "cell_type": "code",
   "execution_count": 6,
   "metadata": {},
   "outputs": [
    {
     "data": {
      "text/plain": [
       "4"
      ]
     },
     "execution_count": 6,
     "metadata": {},
     "output_type": "execute_result"
    }
   ],
   "source": [
    "x"
   ]
  },
  {
   "cell_type": "code",
   "execution_count": 7,
   "metadata": {},
   "outputs": [],
   "source": [
    "sample_list.insert(2, x)"
   ]
  },
  {
   "cell_type": "code",
   "execution_count": 8,
   "metadata": {},
   "outputs": [
    {
     "data": {
      "text/plain": [
       "[1, 2, 4, 3, 5]"
      ]
     },
     "execution_count": 8,
     "metadata": {},
     "output_type": "execute_result"
    }
   ],
   "source": [
    "sample_list"
   ]
  },
  {
   "cell_type": "code",
   "execution_count": 9,
   "metadata": {},
   "outputs": [],
   "source": [
    "sample_tuple = (11,22,33,44,55,66,77,88,99)"
   ]
  },
  {
   "cell_type": "code",
   "execution_count": 12,
   "metadata": {},
   "outputs": [],
   "source": [
    "new_tuple = sample_tuple[3:5] # [3:-1]"
   ]
  },
  {
   "cell_type": "code",
   "execution_count": 13,
   "metadata": {},
   "outputs": [
    {
     "data": {
      "text/plain": [
       "(44, 55)"
      ]
     },
     "execution_count": 13,
     "metadata": {},
     "output_type": "execute_result"
    }
   ],
   "source": [
    "new_tuple"
   ]
  },
  {
   "cell_type": "code",
   "execution_count": 15,
   "metadata": {},
   "outputs": [
    {
     "data": {
      "text/plain": [
       "([1, 3, 3, 4, 5], [1, 2, 3, 4, 5])"
      ]
     },
     "execution_count": 15,
     "metadata": {},
     "output_type": "execute_result"
    }
   ],
   "source": [
    "a = [1,2,3,4,5]\n",
    "b = a.copy()\n",
    "\n",
    "a[1] = 3\n",
    "a,b"
   ]
  },
  {
   "cell_type": "code",
   "execution_count": 17,
   "metadata": {},
   "outputs": [
    {
     "name": "stdout",
     "output_type": "stream",
     "text": [
      "[['eng', 88], ['sci', 90], ['math', 80]]\n",
      "[['math', 80], ['eng', 88], ['sci', 90]]\n"
     ]
    }
   ],
   "source": [
    "scores = [['eng', 88], ['sci', 90], ['math', 80]]\n",
    "\n",
    "def check(x):\n",
    "    return x[1]\n",
    "\n",
    "print(scores)\n",
    "scores.sort(key = lambda x: x[1])\n",
    "print(scores)"
   ]
  },
  {
   "cell_type": "code",
   "execution_count": 32,
   "metadata": {},
   "outputs": [
    {
     "data": {
      "text/plain": [
       "90"
      ]
     },
     "execution_count": 32,
     "metadata": {},
     "output_type": "execute_result"
    }
   ],
   "source": []
  },
  {
   "cell_type": "code",
   "execution_count": 24,
   "metadata": {},
   "outputs": [
    {
     "name": "stderr",
     "output_type": "stream",
     "text": [
      "Exception ignored in: <function Doggy.__del__ at 0x000001F44F7A2430>\n",
      "Traceback (most recent call last):\n",
      "  File \"C:\\Users\\SSAFY\\AppData\\Local\\Temp\\ipykernel_2376\\2439795400.py\", line 9, in __del__\n",
      "AttributeError: 'Doggy' object has no attribute 'num_of_dogs'\n"
     ]
    }
   ],
   "source": [
    "class Doggy:\n",
    "    num_of_dogs = 0\n",
    "    birth_of_dogs = 0\n",
    "    def __init__(self, name, index):\n",
    "        self.name = name\n",
    "        self.index = index\n",
    "        Doggy.num_of_dogs += 1\n",
    "        Doggy.birth_of_dogs += 1\n",
    "\n",
    "    def __del__(self):\n",
    "        Doggy.num_of_dogs -= 1\n",
    "    \n",
    "    def bark(self):\n",
    "        print('멍멍')\n",
    "\n",
    "    def get_status(self):\n",
    "        print(f'num_of_dogs = {Doggy.num_of_dogs}, birth_of_dogs = {Doggy.birth_of_dogs}')"
   ]
  },
  {
   "cell_type": "code",
   "execution_count": 25,
   "metadata": {},
   "outputs": [],
   "source": [
    "d1 = Doggy('choco', 'maltiz')\n",
    "d2 = Doggy('red', 'puddle')"
   ]
  },
  {
   "cell_type": "code",
   "execution_count": 26,
   "metadata": {},
   "outputs": [
    {
     "name": "stdout",
     "output_type": "stream",
     "text": [
      "num_of_dogs = 2, birth_of_dogs = 2\n"
     ]
    }
   ],
   "source": [
    "d1.get_status()"
   ]
  },
  {
   "cell_type": "code",
   "execution_count": 27,
   "metadata": {},
   "outputs": [
    {
     "name": "stdout",
     "output_type": "stream",
     "text": [
      "num_of_dogs = 2, birth_of_dogs = 2\n"
     ]
    }
   ],
   "source": [
    "d2.get_status()"
   ]
  },
  {
   "cell_type": "code",
   "execution_count": 28,
   "metadata": {},
   "outputs": [
    {
     "data": {
      "text/plain": [
       "(2, 2)"
      ]
     },
     "execution_count": 28,
     "metadata": {},
     "output_type": "execute_result"
    }
   ],
   "source": [
    "Doggy.num_of_dogs, Doggy.birth_of_dogs"
   ]
  },
  {
   "cell_type": "code",
   "execution_count": 29,
   "metadata": {},
   "outputs": [
    {
     "name": "stdout",
     "output_type": "stream",
     "text": [
      "멍멍\n"
     ]
    }
   ],
   "source": [
    "d1.bark()"
   ]
  },
  {
   "cell_type": "code",
   "execution_count": 1,
   "metadata": {},
   "outputs": [
    {
     "data": {
      "text/plain": [
       "7500"
      ]
     },
     "execution_count": 1,
     "metadata": {},
     "output_type": "execute_result"
    }
   ],
   "source": [
    "45000//6"
   ]
  },
  {
   "cell_type": "code",
   "execution_count": 1,
   "metadata": {},
   "outputs": [
    {
     "name": "stdout",
     "output_type": "stream",
     "text": [
      "안녕하세요, 찬웅님\n"
     ]
    }
   ],
   "source": [
    "def hello(name):\n",
    "    print(f'안녕하세요, {name}님')\n",
    "    return\n",
    "\n",
    "hello('찬웅')"
   ]
  },
  {
   "cell_type": "code",
   "execution_count": 3,
   "metadata": {},
   "outputs": [
    {
     "name": "stdout",
     "output_type": "stream",
     "text": [
      "안녕하세요, 찬웅님\n"
     ]
    }
   ],
   "source": [
    "def add_emoji(name, func):\n",
    "    func(name)\n",
    "\n",
    "add_emoji('찬웅', hello)"
   ]
  },
  {
   "cell_type": "code",
   "execution_count": 9,
   "metadata": {},
   "outputs": [
    {
     "data": {
      "text/plain": [
       "<function __main__.emoji_decorator.<locals>.wrapper(name)>"
      ]
     },
     "execution_count": 9,
     "metadata": {},
     "output_type": "execute_result"
    }
   ],
   "source": [
    "def emoji_decorator(func):\n",
    "    def wrapper(name):\n",
    "        func(name)\n",
    "        print('^~^//')\n",
    "    \n",
    "    return wrapper\n",
    "\n",
    "emoji_decorator(hello)"
   ]
  },
  {
   "cell_type": "code",
   "execution_count": 10,
   "metadata": {},
   "outputs": [
    {
     "name": "stdout",
     "output_type": "stream",
     "text": [
      "안녕하세요, name님\n",
      "^~^//\n"
     ]
    }
   ],
   "source": [
    "new_func = emoji_decorator(hello)\n",
    "new_func('name')"
   ]
  },
  {
   "cell_type": "code",
   "execution_count": 11,
   "metadata": {},
   "outputs": [
    {
     "name": "stdout",
     "output_type": "stream",
     "text": [
      "안녕하세요, name님\n",
      "^~^//\n"
     ]
    }
   ],
   "source": [
    "emoji_decorator(hello)('name')"
   ]
  },
  {
   "cell_type": "code",
   "execution_count": 12,
   "metadata": {},
   "outputs": [
    {
     "name": "stdout",
     "output_type": "stream",
     "text": [
      "hello, cw!\n",
      "^~^//\n"
     ]
    }
   ],
   "source": [
    "@emoji_decorator\n",
    "def hello(name):\n",
    "    print(f'hello, {name}!')\n",
    "\n",
    "hello('cw')"
   ]
  },
  {
   "cell_type": "code",
   "execution_count": null,
   "metadata": {},
   "outputs": [],
   "source": []
  },
  {
   "attachments": {},
   "cell_type": "markdown",
   "metadata": {},
   "source": [
    "##### 스태틱 메서드\n",
    "- 인스턴스 변수, 클래스 변수를 전혀 다루지 않는 메서드\n",
    "  - 즉, 객체 상태나 클래스 상태를 수정할 수 없음\n",
    "- 언제 사용?\n",
    "  - 속성을 다루지 않고 단지 기능만을 하는 메서드를 정의할 때 사용\n",
    "\n",
    "- @staticmethod 데코레이터를 사용하여 정의\n",
    "- 일반 함수처럼 동작"
   ]
  },
  {
   "attachments": {},
   "cell_type": "markdown",
   "metadata": {},
   "source": [
    "#### 메서드 정리\n",
    "- 인스턴스 메서드\n",
    "  - 메서드를 호출한 인스턴스를 의미하는 self 매게 변수를 통해 인스턴스를 조작\n",
    "- 클래스 메서드\n",
    "  - 클래스를 의미하는 cls매개 변수를 통해 클래스를 조작\n",
    "- 스태틱 메서드\n",
    "  - 클래스 변수나 인스턴스 변수를 사용하지 않는 경우에 사용\n",
    "    - 객체 상태나 클래스 상태를 수정할 수 없음"
   ]
  },
  {
   "cell_type": "code",
   "execution_count": 17,
   "metadata": {},
   "outputs": [
    {
     "name": "stdout",
     "output_type": "stream",
     "text": [
      "instance method\n",
      "class method\n",
      "static method\n"
     ]
    }
   ],
   "source": [
    "class Myclass:\n",
    "    def method(self):\n",
    "        return 'instance method'\n",
    "    \n",
    "    @classmethod\n",
    "    def classmethod(cls):\n",
    "        return 'class method'\n",
    "    \n",
    "    @staticmethod\n",
    "    def staticmethod():\n",
    "        return 'static method'\n",
    "    \n",
    "my = Myclass()\n",
    "\n",
    "print(my.method())\n",
    "print(my.classmethod())\n",
    "print(my.staticmethod())"
   ]
  },
  {
   "attachments": {},
   "cell_type": "markdown",
   "metadata": {},
   "source": [
    "#### 객체지향의 핵심 4가지\n",
    "\n",
    "- 추상화 : 핵심이 되는 부분만 추리기\n",
    "- 상속 : 코드의 재사용성을 높이고, 기능을 확장\n",
    "- 다형성 : 각자의 특성에 따라서 다른 결과 도출\n",
    "- 캡슐화 : 데이터를 보호하기"
   ]
  },
  {
   "attachments": {},
   "cell_type": "markdown",
   "metadata": {},
   "source": [
    "### 상속"
   ]
  },
  {
   "attachments": {},
   "cell_type": "markdown",
   "metadata": {},
   "source": [
    "##### super()\n",
    "- 자식 클래스에서 부모클래스를 사용하고 싶은 경우\n",
    "\n",
    "##### 다중 상속\n",
    "- 두 개 이상의 클래스를 상속 받는 경우\n",
    "- 상속받은 모든 클래스의 요소를 활용 가능함\n",
    "- 중복된 속성이나 메서드가 있는 경우 상속 순서에 의해 결정됨"
   ]
  },
  {
   "attachments": {},
   "cell_type": "markdown",
   "metadata": {},
   "source": [
    "##### 상속 관련 함수와 메서드\n",
    "- mro 메서드(Method Resolution Order)\n"
   ]
  },
  {
   "attachments": {},
   "cell_type": "markdown",
   "metadata": {},
   "source": [
    "### 다형성\n"
   ]
  },
  {
   "attachments": {},
   "cell_type": "markdown",
   "metadata": {},
   "source": [
    "- 여러 모양을 뜻하는 그리스어\n",
    "- 동일한 메서드가 클래스에 따라 다드렉 행동할 수 있음을 의미\n"
   ]
  },
  {
   "attachments": {},
   "cell_type": "markdown",
   "metadata": {},
   "source": [
    "#### 메서드 오버라이딩\n",
    "- 상속받은 메서드를 재정의\n",
    "  - 클래스 상속 시, 부모 클래스에서 정의한 메서드를 자식 클래스에서 변경\n",
    "  - 부모 클래스의 메서드를 실행 시키고 싶은 경우 super를 활용"
   ]
  },
  {
   "cell_type": "code",
   "execution_count": 28,
   "metadata": {},
   "outputs": [
    {
     "data": {
      "text/plain": [
       "25"
      ]
     },
     "execution_count": 28,
     "metadata": {},
     "output_type": "execute_result"
    }
   ],
   "source": [
    "class Person:\n",
    "    def __init__(self):\n",
    "        self._age = 0\n",
    "    \n",
    "    def get_age(self):\n",
    "        return self._age\n",
    "    \n",
    "    def set_age(self,age):\n",
    "        self._age = age\n",
    "\n",
    "\n",
    "p1 = Person()\n",
    "p1.set_age(25)\n",
    "p1.get_age()"
   ]
  },
  {
   "cell_type": "code",
   "execution_count": 31,
   "metadata": {},
   "outputs": [
    {
     "name": "stdout",
     "output_type": "stream",
     "text": [
      "setter 호출!\n",
      "getter 호출!\n",
      "25\n"
     ]
    }
   ],
   "source": [
    "class Person:\n",
    "    def __init__(self):\n",
    "        self._age = 0\n",
    "    \n",
    "    def get_age(self):\n",
    "        print('getter 호출!')\n",
    "        return self._age\n",
    "    \n",
    "    def set_age(self,age):\n",
    "        print('setter 호출!')\n",
    "        self._age = age\n",
    "\n",
    "    age = property(get_age, set_age)\n",
    "\n",
    "p1 = Person()\n",
    "p1.age = 25\n",
    "print(p1.age)"
   ]
  },
  {
   "cell_type": "code",
   "execution_count": 32,
   "metadata": {},
   "outputs": [
    {
     "name": "stdout",
     "output_type": "stream",
     "text": [
      "setter 호출!\n",
      "getter 호출!\n",
      "25\n"
     ]
    }
   ],
   "source": [
    "class Person:\n",
    "    def __init__(self):\n",
    "        self._age = 0\n",
    "\n",
    "    @property\n",
    "    def age(self):\n",
    "        print('getter 호출!')\n",
    "        return self._age\n",
    "    \n",
    "    @age.setter\n",
    "    def age(self,age):\n",
    "        print('setter 호출!')\n",
    "        self._age = age\n",
    "\n",
    "    \n",
    "\n",
    "p1 = Person()\n",
    "p1.age = 25\n",
    "print(p1.age)"
   ]
  },
  {
   "attachments": {},
   "cell_type": "markdown",
   "metadata": {},
   "source": [
    "#### 디버깅"
   ]
  },
  {
   "attachments": {},
   "cell_type": "markdown",
   "metadata": {},
   "source": [
    "소프트웨어에서 발생하는 문제를 버그라고 부름"
   ]
  },
  {
   "cell_type": "code",
   "execution_count": 38,
   "metadata": {},
   "outputs": [],
   "source": [
    "a = input().split()"
   ]
  },
  {
   "cell_type": "code",
   "execution_count": 40,
   "metadata": {},
   "outputs": [
    {
     "name": "stdout",
     "output_type": "stream",
     "text": [
      "아야어여오요우유으이\n"
     ]
    }
   ],
   "source": [
    "print('아야어여오요우유으이')"
   ]
  },
  {
   "cell_type": "code",
   "execution_count": 54,
   "metadata": {},
   "outputs": [
    {
     "name": "stdout",
     "output_type": "stream",
     "text": [
      "숫자오류 invalid literal for int() with base 10: 'adf'\n",
      "무조건 여기에 한번\n"
     ]
    }
   ],
   "source": [
    "try:\n",
    "    t = 5/int(input())\n",
    "    print(t)\n",
    "except ValueError as message:\n",
    "    print('숫자오류', message)\n",
    "else:\n",
    "    print('예외발생 안나면')\n",
    "finally:\n",
    "    print('무조건 여기에 한번')"
   ]
  },
  {
   "cell_type": "code",
   "execution_count": 11,
   "metadata": {},
   "outputs": [],
   "source": [
    "from collections import deque\n",
    "\n",
    "n, m = map(int, input().split())\n",
    "lst = list(map(int, input().split()))\n",
    "\n",
    "stack = deque(list(range(1, n+1)))\n",
    "count = 0\n",
    "\n"
   ]
  },
  {
   "cell_type": "code",
   "execution_count": 22,
   "metadata": {},
   "outputs": [],
   "source": [
    "stack = deque(list(range(1, n+1)))"
   ]
  },
  {
   "cell_type": "code",
   "execution_count": 23,
   "metadata": {},
   "outputs": [
    {
     "data": {
      "text/plain": [
       "deque([1, 2, 3, 4, 5, 6, 7, 8, 9, 10])"
      ]
     },
     "execution_count": 23,
     "metadata": {},
     "output_type": "execute_result"
    }
   ],
   "source": [
    "stack"
   ]
  },
  {
   "cell_type": "code",
   "execution_count": null,
   "metadata": {},
   "outputs": [],
   "source": [
    "for i in lst:\n",
    "    a = stack.index(i)+1\n",
    "    b = len(stack)\n",
    "    if a == 1:\n",
    "        stack.popleft()\n",
    "    elif b-a+1 < a-1:\n",
    "        count += b-a+1\n",
    "        for i in range(b-a+1):\n",
    "            stack.appendleft(stack.pop())\n",
    "    else:\n",
    "        count += a-1\n",
    "        for i in range(a-1):\n",
    "            stack.append(stack.popleft())\n",
    "\n",
    "print(count)"
   ]
  },
  {
   "cell_type": "code",
   "execution_count": 21,
   "metadata": {},
   "outputs": [
    {
     "data": {
      "text/plain": [
       "[1, 6, 3, 2, 7, 9, 8, 4, 10, 5]"
      ]
     },
     "execution_count": 21,
     "metadata": {},
     "output_type": "execute_result"
    }
   ],
   "source": [
    "lst"
   ]
  },
  {
   "cell_type": "code",
   "execution_count": 28,
   "metadata": {},
   "outputs": [
    {
     "data": {
      "text/plain": [
       "3"
      ]
     },
     "execution_count": 28,
     "metadata": {},
     "output_type": "execute_result"
    }
   ],
   "source": [
    "count = 0\n",
    "a = stack.index(3)\n",
    "b = len(stack)\n",
    "if a == 0:\n",
    "    stack.popleft()\n",
    "    b -= 1\n",
    "elif b-a < a:\n",
    "    count += b-a\n",
    "    for i in range(b-a):\n",
    "        stack.appendleft(stack.pop())\n",
    "else:\n",
    "    count += a\n",
    "    for i in range(a):\n",
    "        stack.append(stack.popleft())\n",
    "count"
   ]
  },
  {
   "cell_type": "code",
   "execution_count": 29,
   "metadata": {},
   "outputs": [
    {
     "data": {
      "text/plain": [
       "(6, 9)"
      ]
     },
     "execution_count": 29,
     "metadata": {},
     "output_type": "execute_result"
    }
   ],
   "source": [
    "a, b"
   ]
  },
  {
   "cell_type": "code",
   "execution_count": 31,
   "metadata": {},
   "outputs": [
    {
     "data": {
      "text/plain": [
       "'abca'"
      ]
     },
     "execution_count": 31,
     "metadata": {},
     "output_type": "execute_result"
    }
   ],
   "source": [
    "'abc' + 'a'"
   ]
  },
  {
   "cell_type": "code",
   "execution_count": 32,
   "metadata": {},
   "outputs": [
    {
     "data": {
      "text/plain": [
       "'b'"
      ]
     },
     "execution_count": 32,
     "metadata": {},
     "output_type": "execute_result"
    }
   ],
   "source": [
    "'abc'[1:-1]"
   ]
  },
  {
   "cell_type": "code",
   "execution_count": 37,
   "metadata": {},
   "outputs": [
    {
     "name": "stdout",
     "output_type": "stream",
     "text": [
      "[1, 2, 3, 4]\n"
     ]
    }
   ],
   "source": [
    "lst = input()\n",
    "lst = list(map(int, lst[1:-1].split(',')))\n",
    "print(lst)"
   ]
  },
  {
   "cell_type": "code",
   "execution_count": 38,
   "metadata": {},
   "outputs": [],
   "source": [
    "from collections import deque\n",
    "lst = input()\n",
    "lst = deque(list(map(int, lst[1:-1].split(','))))"
   ]
  },
  {
   "cell_type": "code",
   "execution_count": 41,
   "metadata": {},
   "outputs": [
    {
     "data": {
      "text/plain": [
       "4"
      ]
     },
     "execution_count": 41,
     "metadata": {},
     "output_type": "execute_result"
    }
   ],
   "source": [
    "lst.pop()"
   ]
  },
  {
   "cell_type": "code",
   "execution_count": 42,
   "metadata": {},
   "outputs": [
    {
     "data": {
      "text/plain": [
       "deque([1, 2, 3])"
      ]
     },
     "execution_count": 42,
     "metadata": {},
     "output_type": "execute_result"
    }
   ],
   "source": [
    "lst"
   ]
  },
  {
   "cell_type": "code",
   "execution_count": 45,
   "metadata": {},
   "outputs": [
    {
     "name": "stdout",
     "output_type": "stream",
     "text": [
      "<class 'str'>\n"
     ]
    }
   ],
   "source": [
    "s = input()\n",
    "print(type(s))"
   ]
  },
  {
   "cell_type": "code",
   "execution_count": 46,
   "metadata": {},
   "outputs": [
    {
     "name": "stdout",
     "output_type": "stream",
     "text": [
      "0\n"
     ]
    }
   ],
   "source": [
    "s = input()\n",
    "if s != '[]':\n",
    "    print(1)\n",
    "else:\n",
    "    print(0)"
   ]
  },
  {
   "cell_type": "code",
   "execution_count": 47,
   "metadata": {},
   "outputs": [],
   "source": [
    "lst = [1, 2]"
   ]
  },
  {
   "cell_type": "code",
   "execution_count": 48,
   "metadata": {},
   "outputs": [
    {
     "name": "stdout",
     "output_type": "stream",
     "text": [
      "2,1"
     ]
    }
   ],
   "source": [
    "for i in range(len(lst)-1, 0, -1):\n",
    "    print(lst[i], end='')\n",
    "    print(',', end='')\n",
    "print(lst[0], end='')"
   ]
  },
  {
   "cell_type": "code",
   "execution_count": 49,
   "metadata": {},
   "outputs": [],
   "source": [
    "s = list(input())\n",
    "n = int(input())"
   ]
  },
  {
   "cell_type": "code",
   "execution_count": 53,
   "metadata": {},
   "outputs": [
    {
     "data": {
      "text/plain": [
       "['R', 'D', 'D']"
      ]
     },
     "execution_count": 53,
     "metadata": {},
     "output_type": "execute_result"
    }
   ],
   "source": [
    "s"
   ]
  },
  {
   "cell_type": "code",
   "execution_count": 56,
   "metadata": {},
   "outputs": [],
   "source": [
    "lst = input()\n",
    "if n:\n",
    "    lst = deque(list(map(int, lst[1:-1].split(','))))\n",
    "    count = 0\n",
    "    error = True\n",
    "\n",
    "    for i in s:\n",
    "        if i == 'R':\n",
    "            count += 1\n",
    "        else:\n",
    "            if lst:\n",
    "                if count%2:\n",
    "                    lst.pop()\n",
    "                else:\n",
    "                    lst.popleft()\n",
    "            else:\n",
    "                error = False\n",
    "else:\n",
    "    error = False"
   ]
  },
  {
   "cell_type": "code",
   "execution_count": 57,
   "metadata": {},
   "outputs": [
    {
     "data": {
      "text/plain": [
       "deque([1, 2])"
      ]
     },
     "execution_count": 57,
     "metadata": {},
     "output_type": "execute_result"
    }
   ],
   "source": [
    "lst"
   ]
  },
  {
   "cell_type": "code",
   "execution_count": 54,
   "metadata": {},
   "outputs": [
    {
     "data": {
      "text/plain": [
       "1"
      ]
     },
     "execution_count": 54,
     "metadata": {},
     "output_type": "execute_result"
    }
   ],
   "source": [
    "count"
   ]
  },
  {
   "cell_type": "code",
   "execution_count": 55,
   "metadata": {},
   "outputs": [
    {
     "data": {
      "text/plain": [
       "1"
      ]
     },
     "execution_count": 55,
     "metadata": {},
     "output_type": "execute_result"
    }
   ],
   "source": [
    "count%2"
   ]
  },
  {
   "cell_type": "code",
   "execution_count": 1,
   "metadata": {},
   "outputs": [
    {
     "data": {
      "text/plain": [
       "([1, 2, 3], [1, 3, 3])"
      ]
     },
     "execution_count": 1,
     "metadata": {},
     "output_type": "execute_result"
    }
   ],
   "source": [
    "a = [1,2,3]\n",
    "b = a.copy()\n",
    "b[1] = 3\n",
    "a,b"
   ]
  },
  {
   "cell_type": "code",
   "execution_count": null,
   "metadata": {},
   "outputs": [],
   "source": []
  }
 ],
 "metadata": {
  "kernelspec": {
   "display_name": "Python 3",
   "language": "python",
   "name": "python3"
  },
  "language_info": {
   "codemirror_mode": {
    "name": "ipython",
    "version": 3
   },
   "file_extension": ".py",
   "mimetype": "text/x-python",
   "name": "python",
   "nbconvert_exporter": "python",
   "pygments_lexer": "ipython3",
   "version": "3.9.13"
  },
  "orig_nbformat": 4,
  "vscode": {
   "interpreter": {
    "hash": "c4b9ebf4ca459396e2ad1150752490c26670c1a037c08cad955a4425787bec2e"
   }
  }
 },
 "nbformat": 4,
 "nbformat_minor": 2
}
